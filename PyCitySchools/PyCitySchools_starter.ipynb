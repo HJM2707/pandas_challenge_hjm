{
 "cells": [
  {
   "cell_type": "code",
   "execution_count": 148,
   "metadata": {},
   "outputs": [
    {
     "data": {
      "text/html": [
       "<div>\n",
       "<style scoped>\n",
       "    .dataframe tbody tr th:only-of-type {\n",
       "        vertical-align: middle;\n",
       "    }\n",
       "\n",
       "    .dataframe tbody tr th {\n",
       "        vertical-align: top;\n",
       "    }\n",
       "\n",
       "    .dataframe thead th {\n",
       "        text-align: right;\n",
       "    }\n",
       "</style>\n",
       "<table border=\"1\" class=\"dataframe\">\n",
       "  <thead>\n",
       "    <tr style=\"text-align: right;\">\n",
       "      <th></th>\n",
       "      <th>Student ID</th>\n",
       "      <th>student_name</th>\n",
       "      <th>gender</th>\n",
       "      <th>year</th>\n",
       "      <th>school_name</th>\n",
       "      <th>reading_score</th>\n",
       "      <th>maths_score</th>\n",
       "      <th>School ID</th>\n",
       "      <th>type</th>\n",
       "      <th>size</th>\n",
       "      <th>budget</th>\n",
       "    </tr>\n",
       "  </thead>\n",
       "  <tbody>\n",
       "    <tr>\n",
       "      <th>0</th>\n",
       "      <td>0</td>\n",
       "      <td>Paul Bradley</td>\n",
       "      <td>M</td>\n",
       "      <td>9</td>\n",
       "      <td>Huang High School</td>\n",
       "      <td>96</td>\n",
       "      <td>94</td>\n",
       "      <td>0</td>\n",
       "      <td>Government</td>\n",
       "      <td>2917</td>\n",
       "      <td>1910635</td>\n",
       "    </tr>\n",
       "    <tr>\n",
       "      <th>1</th>\n",
       "      <td>1</td>\n",
       "      <td>Victor Smith</td>\n",
       "      <td>M</td>\n",
       "      <td>12</td>\n",
       "      <td>Huang High School</td>\n",
       "      <td>90</td>\n",
       "      <td>43</td>\n",
       "      <td>0</td>\n",
       "      <td>Government</td>\n",
       "      <td>2917</td>\n",
       "      <td>1910635</td>\n",
       "    </tr>\n",
       "    <tr>\n",
       "      <th>2</th>\n",
       "      <td>2</td>\n",
       "      <td>Kevin Rodriguez</td>\n",
       "      <td>M</td>\n",
       "      <td>12</td>\n",
       "      <td>Huang High School</td>\n",
       "      <td>41</td>\n",
       "      <td>76</td>\n",
       "      <td>0</td>\n",
       "      <td>Government</td>\n",
       "      <td>2917</td>\n",
       "      <td>1910635</td>\n",
       "    </tr>\n",
       "    <tr>\n",
       "      <th>3</th>\n",
       "      <td>3</td>\n",
       "      <td>Richard Scott</td>\n",
       "      <td>M</td>\n",
       "      <td>12</td>\n",
       "      <td>Huang High School</td>\n",
       "      <td>89</td>\n",
       "      <td>86</td>\n",
       "      <td>0</td>\n",
       "      <td>Government</td>\n",
       "      <td>2917</td>\n",
       "      <td>1910635</td>\n",
       "    </tr>\n",
       "    <tr>\n",
       "      <th>4</th>\n",
       "      <td>4</td>\n",
       "      <td>Bonnie Ray</td>\n",
       "      <td>F</td>\n",
       "      <td>9</td>\n",
       "      <td>Huang High School</td>\n",
       "      <td>87</td>\n",
       "      <td>69</td>\n",
       "      <td>0</td>\n",
       "      <td>Government</td>\n",
       "      <td>2917</td>\n",
       "      <td>1910635</td>\n",
       "    </tr>\n",
       "  </tbody>\n",
       "</table>\n",
       "</div>"
      ],
      "text/plain": [
       "   Student ID     student_name gender  year        school_name  reading_score  \\\n",
       "0           0     Paul Bradley      M     9  Huang High School             96   \n",
       "1           1     Victor Smith      M    12  Huang High School             90   \n",
       "2           2  Kevin Rodriguez      M    12  Huang High School             41   \n",
       "3           3    Richard Scott      M    12  Huang High School             89   \n",
       "4           4       Bonnie Ray      F     9  Huang High School             87   \n",
       "\n",
       "   maths_score  School ID        type  size   budget  \n",
       "0           94          0  Government  2917  1910635  \n",
       "1           43          0  Government  2917  1910635  \n",
       "2           76          0  Government  2917  1910635  \n",
       "3           86          0  Government  2917  1910635  \n",
       "4           69          0  Government  2917  1910635  "
      ]
     },
     "execution_count": 148,
     "metadata": {},
     "output_type": "execute_result"
    }
   ],
   "source": [
    "# Dependencies and Setup\n",
    "import pandas as pd\n",
    "\n",
    "# File to Load (Remember to Change These)\n",
    "school_data_to_load = \"Resources/schools_complete.csv\"\n",
    "student_data_to_load = \"Resources/students_complete.csv\"\n",
    "\n",
    "# Read School and Student Data File and store into Pandas DataFrames\n",
    "school_data = pd.read_csv(school_data_to_load)\n",
    "student_data = pd.read_csv(student_data_to_load)\n",
    "\n",
    "# Combine the data into a single dataset.  \n",
    "school_data_complete = pd.merge(student_data, school_data, how=\"left\", on=[\"school_name\", \"school_name\"])\n",
    "school_data_complete.head(5)\n",
    "                    "
   ]
  },
  {
   "cell_type": "code",
   "execution_count": 149,
   "metadata": {},
   "outputs": [],
   "source": [
    "## Local Government Area Summary\n",
    "\n",
    "#Calculate the total number of schools\n",
    "\n",
    "#Calculate the total number of students\n",
    "\n",
    "#Calculate the total budget\n",
    "\n",
    "#Calculate the average maths score \n",
    "\n",
    "#Calculate the average reading score\n",
    "\n",
    "#Calculate the percentage of students with a passing maths score (50 or greater)\n",
    "\n",
    "#Calculate the percentage of students with a passing reading score (50 or greater)\n",
    "\n",
    "#Calculate the percentage of students who passed maths **and** reading (% Overall Passing)\n",
    "\n",
    "#Create a dataframe to hold the above results\n",
    "\n",
    "#Optional: give the displayed data cleaner formatting"
   ]
  },
  {
   "cell_type": "code",
   "execution_count": 150,
   "metadata": {},
   "outputs": [
    {
     "data": {
      "text/plain": [
       "15"
      ]
     },
     "execution_count": 150,
     "metadata": {},
     "output_type": "execute_result"
    }
   ],
   "source": [
    "#Calculate the total number of schools\n",
    "unique_school_name=school_data_complete['school_name'].unique()\n",
    "\n",
    "\n",
    "total_school_number=len(unique_school_name)\n",
    "\n",
    "total_school_number\n"
   ]
  },
  {
   "cell_type": "code",
   "execution_count": 151,
   "metadata": {},
   "outputs": [
    {
     "data": {
      "text/plain": [
       "70.33819249425581"
      ]
     },
     "execution_count": 151,
     "metadata": {},
     "output_type": "execute_result"
    }
   ],
   "source": [
    "# Calculate the average math score.\n",
    "average_math_score = school_data_complete[\"maths_score\"].mean()\n",
    "average_math_score"
   ]
  },
  {
   "cell_type": "code",
   "execution_count": 152,
   "metadata": {},
   "outputs": [
    {
     "data": {
      "text/plain": [
       "69.98013786060761"
      ]
     },
     "execution_count": 152,
     "metadata": {},
     "output_type": "execute_result"
    }
   ],
   "source": [
    "# Calculate the average reading score\n",
    "average_reading_score = school_data_complete[\"reading_score\"].mean()\n",
    "average_reading_score"
   ]
  },
  {
   "cell_type": "code",
   "execution_count": 153,
   "metadata": {},
   "outputs": [
    {
     "data": {
      "text/plain": [
       "86.07863160582077"
      ]
     },
     "execution_count": 153,
     "metadata": {},
     "output_type": "execute_result"
    }
   ],
   "source": [
    "#Calculate the percentage of students with a passing math score (50 or greater)\n",
    "\n",
    "students_passing_math = school_data_complete.loc[school_data_complete[\"maths_score\"] >= 50]\n",
    "number_students_passing_math = students_passing_math[\"Student ID\"].count()\n",
    "\n",
    "percent_passing_math = (number_students_passing_math / total_students_number) * 100\n",
    "\n",
    "percent_passing_math"
   ]
  },
  {
   "cell_type": "code",
   "execution_count": 154,
   "metadata": {},
   "outputs": [
    {
     "data": {
      "text/plain": [
       "84.42685728874139"
      ]
     },
     "execution_count": 154,
     "metadata": {},
     "output_type": "execute_result"
    }
   ],
   "source": [
    "# Calculate the percentage of students with a passing reading score (50 or greater)\n",
    "students_passing_reading = school_data_complete.loc[school_data_complete[\"reading_score\"] >= 50]\n",
    "number_students_passing_reading = students_passing_reading[\"Student ID\"].count()\n",
    "\n",
    "percent_passing_reading = (number_students_passing_reading / total_students_number) * 100\n",
    "percent_passing_reading"
   ]
  },
  {
   "cell_type": "code",
   "execution_count": 155,
   "metadata": {},
   "outputs": [
    {
     "data": {
      "text/plain": [
       "72.80827163645647"
      ]
     },
     "execution_count": 155,
     "metadata": {},
     "output_type": "execute_result"
    }
   ],
   "source": [
    "# Calculate the percentage of students who passed math and reading (% Overall Passing)\n",
    "\n",
    "Overall_passing = school_data_complete[(school_data_complete['maths_score'] >= 50) & (school_data_complete['reading_score'] >= 50)]['Student ID'].count()/total_students_number*100\n",
    "Overall_passing"
   ]
  },
  {
   "cell_type": "markdown",
   "metadata": {},
   "source": [
    "# Create a dataframe to hold the above results\n",
    "district_summary = pd.DataFrame({\n",
    "    \"Total Schools\": total_school_number,\n",
    "    \"Total Students\": f\"{total_students_number:,}\",\n",
    "    \"Total Budget\": f\"${total_budget:,.2f}\",\n",
    "    \"Average Math Score\": f\"{percent_passing_math:.6f}\",\n",
    "    \"Average Reading Score\": f\"{average_reading_score:.5f}\",\n",
    "    \"% Passing Math\": f\"{percent_passing_math:.6f}\",\n",
    "    \"% Passing Reading\": f\"{percentage_students_pass_reading:.6f}\",\n",
    "    \"% Overall Passing\": f\"{Overall_passing: .6f}\"\n",
    "}, index=[0])\n",
    "district_summary"
   ]
  },
  {
   "cell_type": "code",
   "execution_count": 156,
   "metadata": {
    "scrolled": true
   },
   "outputs": [
    {
     "data": {
      "text/html": [
       "<div>\n",
       "<style scoped>\n",
       "    .dataframe tbody tr th:only-of-type {\n",
       "        vertical-align: middle;\n",
       "    }\n",
       "\n",
       "    .dataframe tbody tr th {\n",
       "        vertical-align: top;\n",
       "    }\n",
       "\n",
       "    .dataframe thead th {\n",
       "        text-align: right;\n",
       "    }\n",
       "</style>\n",
       "<table border=\"1\" class=\"dataframe\">\n",
       "  <thead>\n",
       "    <tr style=\"text-align: right;\">\n",
       "      <th></th>\n",
       "      <th>Total Schools</th>\n",
       "      <th>Total Students</th>\n",
       "      <th>Total Budget</th>\n",
       "      <th>Average Math Score</th>\n",
       "      <th>Average Reading Score</th>\n",
       "      <th>% Passing Math</th>\n",
       "      <th>% Passing Reading</th>\n",
       "      <th>% Overall Passing</th>\n",
       "    </tr>\n",
       "  </thead>\n",
       "  <tbody>\n",
       "    <tr>\n",
       "      <th>0</th>\n",
       "      <td>15</td>\n",
       "      <td>39,170</td>\n",
       "      <td>$24,649,428.00</td>\n",
       "      <td>70.338192</td>\n",
       "      <td>69.98014</td>\n",
       "      <td>86.078632</td>\n",
       "      <td>84.426857</td>\n",
       "      <td>72.808272</td>\n",
       "    </tr>\n",
       "  </tbody>\n",
       "</table>\n",
       "</div>"
      ],
      "text/plain": [
       "   Total Schools Total Students    Total Budget Average Math Score  \\\n",
       "0             15         39,170  $24,649,428.00          70.338192   \n",
       "\n",
       "  Average Reading Score % Passing Math % Passing Reading % Overall Passing  \n",
       "0              69.98014      86.078632         84.426857         72.808272  "
      ]
     },
     "execution_count": 156,
     "metadata": {},
     "output_type": "execute_result"
    }
   ],
   "source": [
    "# Create a dataframe to hold the above results\n",
    "district_summary = pd.DataFrame({\n",
    "    \"Total Schools\": total_school_number,\n",
    "    \"Total Students\": f\"{total_students_number:,}\",\n",
    "    \"Total Budget\": f\"${total_budget:,.2f}\",\n",
    "    \"Average Math Score\": f\"{average_math_score:.6f}\",\n",
    "    \"Average Reading Score\": f\"{average_reading_score:.5f}\",\n",
    "    \"% Passing Math\": f\"{percent_passing_math:.6f}\",\n",
    "    \"% Passing Reading\": f\"{percent_passing_reading:.6f}\",\n",
    "    \"% Overall Passing\": f\"{Overall_passing: .6f}\"\n",
    "}, index=[0])\n",
    "\n",
    "district_summary"
   ]
  },
  {
   "cell_type": "markdown",
   "metadata": {},
   "source": [
    "## School Summary"
   ]
  },
  {
   "cell_type": "markdown",
   "metadata": {},
   "source": [
    "* Create an overview table that summarises key metrics about each school, including:\n",
    "  * School Name\n",
    "  * School Type\n",
    "  * Total Students\n",
    "  * Total School Budget\n",
    "  * Per Student Budget\n",
    "  * Average Maths Score\n",
    "  * Average Reading Score\n",
    "  * % Passing Maths\n",
    "  * % Passing Reading\n",
    "  * % Overall Passing (The percentage of students that passed maths **and** reading.)\n",
    "  \n",
    "* Create a dataframe to hold the above results"
   ]
  },
  {
   "cell_type": "code",
   "execution_count": 157,
   "metadata": {},
   "outputs": [],
   "source": [
    "# Group by school name\n",
    "school_name = school_data_complete.set_index('school_name').groupby(['school_name'])"
   ]
  },
  {
   "cell_type": "code",
   "execution_count": 158,
   "metadata": {},
   "outputs": [],
   "source": [
    "# school types by school name\n",
    "school_type = school_data.set_index('school_name')['type']"
   ]
  },
  {
   "cell_type": "code",
   "execution_count": 159,
   "metadata": {},
   "outputs": [],
   "source": [
    "#  Calculate total students\n",
    "total_student = school_name['Student ID'].count()"
   ]
  },
  {
   "cell_type": "code",
   "execution_count": 160,
   "metadata": {},
   "outputs": [],
   "source": [
    "# Total school budget\n",
    "total_school_budget = school_data.set_index('school_name')['budget']"
   ]
  },
  {
   "cell_type": "code",
   "execution_count": 161,
   "metadata": {},
   "outputs": [],
   "source": [
    "# per student budget\n",
    "budget_per_student = (school_data.set_index('school_name')['budget']/school_data.set_index('school_name')['size'])"
   ]
  },
  {
   "cell_type": "code",
   "execution_count": 162,
   "metadata": {},
   "outputs": [],
   "source": [
    "# Average Math Score\n",
    "\n",
    "average_math_score = school_name['maths_score'].mean()"
   ]
  },
  {
   "cell_type": "code",
   "execution_count": 163,
   "metadata": {},
   "outputs": [],
   "source": [
    "# Average Reading Score\n",
    "average_reading_score = school_name['reading_score'].mean()"
   ]
  },
  {
   "cell_type": "code",
   "execution_count": 164,
   "metadata": {},
   "outputs": [],
   "source": [
    "# % Passing Math\n",
    "\n",
    "pass_math_percent = school_data_complete[school_data_complete['maths_score'] >= 50].groupby('school_name')['Student ID'].count()/total_student*100"
   ]
  },
  {
   "cell_type": "code",
   "execution_count": 165,
   "metadata": {},
   "outputs": [],
   "source": [
    "# % Passing Math\n",
    "\n",
    "pass_math_percent = school_data_complete[school_data_complete['maths_score'] >= 50].groupby('school_name')['Student ID'].count()/total_student*100"
   ]
  },
  {
   "cell_type": "code",
   "execution_count": 166,
   "metadata": {},
   "outputs": [],
   "source": [
    "# % Passing Reading\n",
    "\n",
    "pass_read_percent = school_data_complete[school_data_complete['reading_score'] >= 50].groupby('school_name')['Student ID'].count()/total_student*100"
   ]
  },
  {
   "cell_type": "code",
   "execution_count": 175,
   "metadata": {},
   "outputs": [],
   "source": [
    "# % Overall Passing (The percentage of students that passed math and reading.\n",
    "\n",
    "overall_pass = school_data_complete[(school_data_complete['reading_score'] >= 50) & (school_data_complete['maths_score'] >= 50)].groupby('school_name')['Student ID'].count()/total_student*100"
   ]
  },
  {
   "cell_type": "code",
   "execution_count": 176,
   "metadata": {},
   "outputs": [
    {
     "data": {
      "text/html": [
       "<style  type=\"text/css\" >\n",
       "</style><table id=\"T_24b0efd0_7c66_11ed_abcc_3c91804d808a\" ><thead>    <tr>        <th class=\"blank level0\" ></th>        <th class=\"col_heading level0 col0\" >School Type</th>        <th class=\"col_heading level0 col1\" >Total Students</th>        <th class=\"col_heading level0 col2\" >Total School Budget</th>        <th class=\"col_heading level0 col3\" >Per Student Budget</th>        <th class=\"col_heading level0 col4\" >Average Math Score</th>        <th class=\"col_heading level0 col5\" >Average Reading Score</th>        <th class=\"col_heading level0 col6\" >% Passing Math</th>        <th class=\"col_heading level0 col7\" >% Passing Reading</th>        <th class=\"col_heading level0 col8\" >% Overall Passing</th>    </tr></thead><tbody>\n",
       "                <tr>\n",
       "                        <th id=\"T_24b0efd0_7c66_11ed_abcc_3c91804d808alevel0_row0\" class=\"row_heading level0 row0\" >Bailey High School</th>\n",
       "                        <td id=\"T_24b0efd0_7c66_11ed_abcc_3c91804d808arow0_col0\" class=\"data row0 col0\" >Government</td>\n",
       "                        <td id=\"T_24b0efd0_7c66_11ed_abcc_3c91804d808arow0_col1\" class=\"data row0 col1\" >4976</td>\n",
       "                        <td id=\"T_24b0efd0_7c66_11ed_abcc_3c91804d808arow0_col2\" class=\"data row0 col2\" >$3,124,928.00</td>\n",
       "                        <td id=\"T_24b0efd0_7c66_11ed_abcc_3c91804d808arow0_col3\" class=\"data row0 col3\" >$628.00</td>\n",
       "                        <td id=\"T_24b0efd0_7c66_11ed_abcc_3c91804d808arow0_col4\" class=\"data row0 col4\" >72.352894</td>\n",
       "                        <td id=\"T_24b0efd0_7c66_11ed_abcc_3c91804d808arow0_col5\" class=\"data row0 col5\" >71.008842</td>\n",
       "                        <td id=\"T_24b0efd0_7c66_11ed_abcc_3c91804d808arow0_col6\" class=\"data row0 col6\" >91.639871</td>\n",
       "                        <td id=\"T_24b0efd0_7c66_11ed_abcc_3c91804d808arow0_col7\" class=\"data row0 col7\" >87.379421</td>\n",
       "                        <td id=\"T_24b0efd0_7c66_11ed_abcc_3c91804d808arow0_col8\" class=\"data row0 col8\" >80.084405</td>\n",
       "            </tr>\n",
       "            <tr>\n",
       "                        <th id=\"T_24b0efd0_7c66_11ed_abcc_3c91804d808alevel0_row1\" class=\"row_heading level0 row1\" >Cabrera High School</th>\n",
       "                        <td id=\"T_24b0efd0_7c66_11ed_abcc_3c91804d808arow1_col0\" class=\"data row1 col0\" >Independent</td>\n",
       "                        <td id=\"T_24b0efd0_7c66_11ed_abcc_3c91804d808arow1_col1\" class=\"data row1 col1\" >1858</td>\n",
       "                        <td id=\"T_24b0efd0_7c66_11ed_abcc_3c91804d808arow1_col2\" class=\"data row1 col2\" >$1,081,356.00</td>\n",
       "                        <td id=\"T_24b0efd0_7c66_11ed_abcc_3c91804d808arow1_col3\" class=\"data row1 col3\" >$582.00</td>\n",
       "                        <td id=\"T_24b0efd0_7c66_11ed_abcc_3c91804d808arow1_col4\" class=\"data row1 col4\" >71.657158</td>\n",
       "                        <td id=\"T_24b0efd0_7c66_11ed_abcc_3c91804d808arow1_col5\" class=\"data row1 col5\" >71.359526</td>\n",
       "                        <td id=\"T_24b0efd0_7c66_11ed_abcc_3c91804d808arow1_col6\" class=\"data row1 col6\" >90.850377</td>\n",
       "                        <td id=\"T_24b0efd0_7c66_11ed_abcc_3c91804d808arow1_col7\" class=\"data row1 col7\" >89.074273</td>\n",
       "                        <td id=\"T_24b0efd0_7c66_11ed_abcc_3c91804d808arow1_col8\" class=\"data row1 col8\" >80.785791</td>\n",
       "            </tr>\n",
       "            <tr>\n",
       "                        <th id=\"T_24b0efd0_7c66_11ed_abcc_3c91804d808alevel0_row2\" class=\"row_heading level0 row2\" >Figueroa High School</th>\n",
       "                        <td id=\"T_24b0efd0_7c66_11ed_abcc_3c91804d808arow2_col0\" class=\"data row2 col0\" >Government</td>\n",
       "                        <td id=\"T_24b0efd0_7c66_11ed_abcc_3c91804d808arow2_col1\" class=\"data row2 col1\" >2949</td>\n",
       "                        <td id=\"T_24b0efd0_7c66_11ed_abcc_3c91804d808arow2_col2\" class=\"data row2 col2\" >$1,884,411.00</td>\n",
       "                        <td id=\"T_24b0efd0_7c66_11ed_abcc_3c91804d808arow2_col3\" class=\"data row2 col3\" >$639.00</td>\n",
       "                        <td id=\"T_24b0efd0_7c66_11ed_abcc_3c91804d808arow2_col4\" class=\"data row2 col4\" >68.698542</td>\n",
       "                        <td id=\"T_24b0efd0_7c66_11ed_abcc_3c91804d808arow2_col5\" class=\"data row2 col5\" >69.077993</td>\n",
       "                        <td id=\"T_24b0efd0_7c66_11ed_abcc_3c91804d808arow2_col6\" class=\"data row2 col6\" >81.654798</td>\n",
       "                        <td id=\"T_24b0efd0_7c66_11ed_abcc_3c91804d808arow2_col7\" class=\"data row2 col7\" >82.807731</td>\n",
       "                        <td id=\"T_24b0efd0_7c66_11ed_abcc_3c91804d808arow2_col8\" class=\"data row2 col8\" >67.650051</td>\n",
       "            </tr>\n",
       "            <tr>\n",
       "                        <th id=\"T_24b0efd0_7c66_11ed_abcc_3c91804d808alevel0_row3\" class=\"row_heading level0 row3\" >Ford High School</th>\n",
       "                        <td id=\"T_24b0efd0_7c66_11ed_abcc_3c91804d808arow3_col0\" class=\"data row3 col0\" >Government</td>\n",
       "                        <td id=\"T_24b0efd0_7c66_11ed_abcc_3c91804d808arow3_col1\" class=\"data row3 col1\" >2739</td>\n",
       "                        <td id=\"T_24b0efd0_7c66_11ed_abcc_3c91804d808arow3_col2\" class=\"data row3 col2\" >$1,763,916.00</td>\n",
       "                        <td id=\"T_24b0efd0_7c66_11ed_abcc_3c91804d808arow3_col3\" class=\"data row3 col3\" >$644.00</td>\n",
       "                        <td id=\"T_24b0efd0_7c66_11ed_abcc_3c91804d808arow3_col4\" class=\"data row3 col4\" >69.091274</td>\n",
       "                        <td id=\"T_24b0efd0_7c66_11ed_abcc_3c91804d808arow3_col5\" class=\"data row3 col5\" >69.572472</td>\n",
       "                        <td id=\"T_24b0efd0_7c66_11ed_abcc_3c91804d808arow3_col6\" class=\"data row3 col6\" >82.438846</td>\n",
       "                        <td id=\"T_24b0efd0_7c66_11ed_abcc_3c91804d808arow3_col7\" class=\"data row3 col7\" >82.219788</td>\n",
       "                        <td id=\"T_24b0efd0_7c66_11ed_abcc_3c91804d808arow3_col8\" class=\"data row3 col8\" >67.469880</td>\n",
       "            </tr>\n",
       "            <tr>\n",
       "                        <th id=\"T_24b0efd0_7c66_11ed_abcc_3c91804d808alevel0_row4\" class=\"row_heading level0 row4\" >Griffin High School</th>\n",
       "                        <td id=\"T_24b0efd0_7c66_11ed_abcc_3c91804d808arow4_col0\" class=\"data row4 col0\" >Independent</td>\n",
       "                        <td id=\"T_24b0efd0_7c66_11ed_abcc_3c91804d808arow4_col1\" class=\"data row4 col1\" >1468</td>\n",
       "                        <td id=\"T_24b0efd0_7c66_11ed_abcc_3c91804d808arow4_col2\" class=\"data row4 col2\" >$917,500.00</td>\n",
       "                        <td id=\"T_24b0efd0_7c66_11ed_abcc_3c91804d808arow4_col3\" class=\"data row4 col3\" >$625.00</td>\n",
       "                        <td id=\"T_24b0efd0_7c66_11ed_abcc_3c91804d808arow4_col4\" class=\"data row4 col4\" >71.788147</td>\n",
       "                        <td id=\"T_24b0efd0_7c66_11ed_abcc_3c91804d808arow4_col5\" class=\"data row4 col5\" >71.245232</td>\n",
       "                        <td id=\"T_24b0efd0_7c66_11ed_abcc_3c91804d808arow4_col6\" class=\"data row4 col6\" >91.212534</td>\n",
       "                        <td id=\"T_24b0efd0_7c66_11ed_abcc_3c91804d808arow4_col7\" class=\"data row4 col7\" >88.487738</td>\n",
       "                        <td id=\"T_24b0efd0_7c66_11ed_abcc_3c91804d808arow4_col8\" class=\"data row4 col8\" >81.335150</td>\n",
       "            </tr>\n",
       "            <tr>\n",
       "                        <th id=\"T_24b0efd0_7c66_11ed_abcc_3c91804d808alevel0_row5\" class=\"row_heading level0 row5\" >Hernandez High School</th>\n",
       "                        <td id=\"T_24b0efd0_7c66_11ed_abcc_3c91804d808arow5_col0\" class=\"data row5 col0\" >Government</td>\n",
       "                        <td id=\"T_24b0efd0_7c66_11ed_abcc_3c91804d808arow5_col1\" class=\"data row5 col1\" >4635</td>\n",
       "                        <td id=\"T_24b0efd0_7c66_11ed_abcc_3c91804d808arow5_col2\" class=\"data row5 col2\" >$3,022,020.00</td>\n",
       "                        <td id=\"T_24b0efd0_7c66_11ed_abcc_3c91804d808arow5_col3\" class=\"data row5 col3\" >$652.00</td>\n",
       "                        <td id=\"T_24b0efd0_7c66_11ed_abcc_3c91804d808arow5_col4\" class=\"data row5 col4\" >68.874865</td>\n",
       "                        <td id=\"T_24b0efd0_7c66_11ed_abcc_3c91804d808arow5_col5\" class=\"data row5 col5\" >69.186408</td>\n",
       "                        <td id=\"T_24b0efd0_7c66_11ed_abcc_3c91804d808arow5_col6\" class=\"data row5 col6\" >80.949299</td>\n",
       "                        <td id=\"T_24b0efd0_7c66_11ed_abcc_3c91804d808arow5_col7\" class=\"data row5 col7\" >81.877023</td>\n",
       "                        <td id=\"T_24b0efd0_7c66_11ed_abcc_3c91804d808arow5_col8\" class=\"data row5 col8\" >66.364617</td>\n",
       "            </tr>\n",
       "            <tr>\n",
       "                        <th id=\"T_24b0efd0_7c66_11ed_abcc_3c91804d808alevel0_row6\" class=\"row_heading level0 row6\" >Holden High School</th>\n",
       "                        <td id=\"T_24b0efd0_7c66_11ed_abcc_3c91804d808arow6_col0\" class=\"data row6 col0\" >Independent</td>\n",
       "                        <td id=\"T_24b0efd0_7c66_11ed_abcc_3c91804d808arow6_col1\" class=\"data row6 col1\" >427</td>\n",
       "                        <td id=\"T_24b0efd0_7c66_11ed_abcc_3c91804d808arow6_col2\" class=\"data row6 col2\" >$248,087.00</td>\n",
       "                        <td id=\"T_24b0efd0_7c66_11ed_abcc_3c91804d808arow6_col3\" class=\"data row6 col3\" >$581.00</td>\n",
       "                        <td id=\"T_24b0efd0_7c66_11ed_abcc_3c91804d808arow6_col4\" class=\"data row6 col4\" >72.583138</td>\n",
       "                        <td id=\"T_24b0efd0_7c66_11ed_abcc_3c91804d808arow6_col5\" class=\"data row6 col5\" >71.660422</td>\n",
       "                        <td id=\"T_24b0efd0_7c66_11ed_abcc_3c91804d808arow6_col6\" class=\"data row6 col6\" >89.929742</td>\n",
       "                        <td id=\"T_24b0efd0_7c66_11ed_abcc_3c91804d808arow6_col7\" class=\"data row6 col7\" >88.524590</td>\n",
       "                        <td id=\"T_24b0efd0_7c66_11ed_abcc_3c91804d808arow6_col8\" class=\"data row6 col8\" >78.922717</td>\n",
       "            </tr>\n",
       "            <tr>\n",
       "                        <th id=\"T_24b0efd0_7c66_11ed_abcc_3c91804d808alevel0_row7\" class=\"row_heading level0 row7\" >Huang High School</th>\n",
       "                        <td id=\"T_24b0efd0_7c66_11ed_abcc_3c91804d808arow7_col0\" class=\"data row7 col0\" >Government</td>\n",
       "                        <td id=\"T_24b0efd0_7c66_11ed_abcc_3c91804d808arow7_col1\" class=\"data row7 col1\" >2917</td>\n",
       "                        <td id=\"T_24b0efd0_7c66_11ed_abcc_3c91804d808arow7_col2\" class=\"data row7 col2\" >$1,910,635.00</td>\n",
       "                        <td id=\"T_24b0efd0_7c66_11ed_abcc_3c91804d808arow7_col3\" class=\"data row7 col3\" >$655.00</td>\n",
       "                        <td id=\"T_24b0efd0_7c66_11ed_abcc_3c91804d808arow7_col4\" class=\"data row7 col4\" >68.935207</td>\n",
       "                        <td id=\"T_24b0efd0_7c66_11ed_abcc_3c91804d808arow7_col5\" class=\"data row7 col5\" >68.910525</td>\n",
       "                        <td id=\"T_24b0efd0_7c66_11ed_abcc_3c91804d808arow7_col6\" class=\"data row7 col6\" >81.693521</td>\n",
       "                        <td id=\"T_24b0efd0_7c66_11ed_abcc_3c91804d808arow7_col7\" class=\"data row7 col7\" >81.453548</td>\n",
       "                        <td id=\"T_24b0efd0_7c66_11ed_abcc_3c91804d808arow7_col8\" class=\"data row7 col8\" >66.712376</td>\n",
       "            </tr>\n",
       "            <tr>\n",
       "                        <th id=\"T_24b0efd0_7c66_11ed_abcc_3c91804d808alevel0_row8\" class=\"row_heading level0 row8\" >Johnson High School</th>\n",
       "                        <td id=\"T_24b0efd0_7c66_11ed_abcc_3c91804d808arow8_col0\" class=\"data row8 col0\" >Government</td>\n",
       "                        <td id=\"T_24b0efd0_7c66_11ed_abcc_3c91804d808arow8_col1\" class=\"data row8 col1\" >4761</td>\n",
       "                        <td id=\"T_24b0efd0_7c66_11ed_abcc_3c91804d808arow8_col2\" class=\"data row8 col2\" >$3,094,650.00</td>\n",
       "                        <td id=\"T_24b0efd0_7c66_11ed_abcc_3c91804d808arow8_col3\" class=\"data row8 col3\" >$650.00</td>\n",
       "                        <td id=\"T_24b0efd0_7c66_11ed_abcc_3c91804d808arow8_col4\" class=\"data row8 col4\" >68.843100</td>\n",
       "                        <td id=\"T_24b0efd0_7c66_11ed_abcc_3c91804d808arow8_col5\" class=\"data row8 col5\" >69.039277</td>\n",
       "                        <td id=\"T_24b0efd0_7c66_11ed_abcc_3c91804d808arow8_col6\" class=\"data row8 col6\" >82.062592</td>\n",
       "                        <td id=\"T_24b0efd0_7c66_11ed_abcc_3c91804d808arow8_col7\" class=\"data row8 col7\" >81.978576</td>\n",
       "                        <td id=\"T_24b0efd0_7c66_11ed_abcc_3c91804d808arow8_col8\" class=\"data row8 col8\" >67.191766</td>\n",
       "            </tr>\n",
       "            <tr>\n",
       "                        <th id=\"T_24b0efd0_7c66_11ed_abcc_3c91804d808alevel0_row9\" class=\"row_heading level0 row9\" >Pena High School</th>\n",
       "                        <td id=\"T_24b0efd0_7c66_11ed_abcc_3c91804d808arow9_col0\" class=\"data row9 col0\" >Independent</td>\n",
       "                        <td id=\"T_24b0efd0_7c66_11ed_abcc_3c91804d808arow9_col1\" class=\"data row9 col1\" >962</td>\n",
       "                        <td id=\"T_24b0efd0_7c66_11ed_abcc_3c91804d808arow9_col2\" class=\"data row9 col2\" >$585,858.00</td>\n",
       "                        <td id=\"T_24b0efd0_7c66_11ed_abcc_3c91804d808arow9_col3\" class=\"data row9 col3\" >$609.00</td>\n",
       "                        <td id=\"T_24b0efd0_7c66_11ed_abcc_3c91804d808arow9_col4\" class=\"data row9 col4\" >72.088358</td>\n",
       "                        <td id=\"T_24b0efd0_7c66_11ed_abcc_3c91804d808arow9_col5\" class=\"data row9 col5\" >71.613306</td>\n",
       "                        <td id=\"T_24b0efd0_7c66_11ed_abcc_3c91804d808arow9_col6\" class=\"data row9 col6\" >91.683992</td>\n",
       "                        <td id=\"T_24b0efd0_7c66_11ed_abcc_3c91804d808arow9_col7\" class=\"data row9 col7\" >86.590437</td>\n",
       "                        <td id=\"T_24b0efd0_7c66_11ed_abcc_3c91804d808arow9_col8\" class=\"data row9 col8\" >79.209979</td>\n",
       "            </tr>\n",
       "            <tr>\n",
       "                        <th id=\"T_24b0efd0_7c66_11ed_abcc_3c91804d808alevel0_row10\" class=\"row_heading level0 row10\" >Rodriguez High School</th>\n",
       "                        <td id=\"T_24b0efd0_7c66_11ed_abcc_3c91804d808arow10_col0\" class=\"data row10 col0\" >Government</td>\n",
       "                        <td id=\"T_24b0efd0_7c66_11ed_abcc_3c91804d808arow10_col1\" class=\"data row10 col1\" >3999</td>\n",
       "                        <td id=\"T_24b0efd0_7c66_11ed_abcc_3c91804d808arow10_col2\" class=\"data row10 col2\" >$2,547,363.00</td>\n",
       "                        <td id=\"T_24b0efd0_7c66_11ed_abcc_3c91804d808arow10_col3\" class=\"data row10 col3\" >$637.00</td>\n",
       "                        <td id=\"T_24b0efd0_7c66_11ed_abcc_3c91804d808arow10_col4\" class=\"data row10 col4\" >72.047762</td>\n",
       "                        <td id=\"T_24b0efd0_7c66_11ed_abcc_3c91804d808arow10_col5\" class=\"data row10 col5\" >70.935984</td>\n",
       "                        <td id=\"T_24b0efd0_7c66_11ed_abcc_3c91804d808arow10_col6\" class=\"data row10 col6\" >90.797699</td>\n",
       "                        <td id=\"T_24b0efd0_7c66_11ed_abcc_3c91804d808arow10_col7\" class=\"data row10 col7\" >87.396849</td>\n",
       "                        <td id=\"T_24b0efd0_7c66_11ed_abcc_3c91804d808arow10_col8\" class=\"data row10 col8\" >79.419855</td>\n",
       "            </tr>\n",
       "            <tr>\n",
       "                        <th id=\"T_24b0efd0_7c66_11ed_abcc_3c91804d808alevel0_row11\" class=\"row_heading level0 row11\" >Shelton High School</th>\n",
       "                        <td id=\"T_24b0efd0_7c66_11ed_abcc_3c91804d808arow11_col0\" class=\"data row11 col0\" >Independent</td>\n",
       "                        <td id=\"T_24b0efd0_7c66_11ed_abcc_3c91804d808arow11_col1\" class=\"data row11 col1\" >1761</td>\n",
       "                        <td id=\"T_24b0efd0_7c66_11ed_abcc_3c91804d808arow11_col2\" class=\"data row11 col2\" >$1,056,600.00</td>\n",
       "                        <td id=\"T_24b0efd0_7c66_11ed_abcc_3c91804d808arow11_col3\" class=\"data row11 col3\" >$600.00</td>\n",
       "                        <td id=\"T_24b0efd0_7c66_11ed_abcc_3c91804d808arow11_col4\" class=\"data row11 col4\" >72.034072</td>\n",
       "                        <td id=\"T_24b0efd0_7c66_11ed_abcc_3c91804d808arow11_col5\" class=\"data row11 col5\" >70.257808</td>\n",
       "                        <td id=\"T_24b0efd0_7c66_11ed_abcc_3c91804d808arow11_col6\" class=\"data row11 col6\" >91.538898</td>\n",
       "                        <td id=\"T_24b0efd0_7c66_11ed_abcc_3c91804d808arow11_col7\" class=\"data row11 col7\" >86.712095</td>\n",
       "                        <td id=\"T_24b0efd0_7c66_11ed_abcc_3c91804d808arow11_col8\" class=\"data row11 col8\" >78.875639</td>\n",
       "            </tr>\n",
       "            <tr>\n",
       "                        <th id=\"T_24b0efd0_7c66_11ed_abcc_3c91804d808alevel0_row12\" class=\"row_heading level0 row12\" >Thomas High School</th>\n",
       "                        <td id=\"T_24b0efd0_7c66_11ed_abcc_3c91804d808arow12_col0\" class=\"data row12 col0\" >Independent</td>\n",
       "                        <td id=\"T_24b0efd0_7c66_11ed_abcc_3c91804d808arow12_col1\" class=\"data row12 col1\" >1635</td>\n",
       "                        <td id=\"T_24b0efd0_7c66_11ed_abcc_3c91804d808arow12_col2\" class=\"data row12 col2\" >$1,043,130.00</td>\n",
       "                        <td id=\"T_24b0efd0_7c66_11ed_abcc_3c91804d808arow12_col3\" class=\"data row12 col3\" >$638.00</td>\n",
       "                        <td id=\"T_24b0efd0_7c66_11ed_abcc_3c91804d808arow12_col4\" class=\"data row12 col4\" >69.581651</td>\n",
       "                        <td id=\"T_24b0efd0_7c66_11ed_abcc_3c91804d808arow12_col5\" class=\"data row12 col5\" >69.768807</td>\n",
       "                        <td id=\"T_24b0efd0_7c66_11ed_abcc_3c91804d808arow12_col6\" class=\"data row12 col6\" >83.853211</td>\n",
       "                        <td id=\"T_24b0efd0_7c66_11ed_abcc_3c91804d808arow12_col7\" class=\"data row12 col7\" >82.629969</td>\n",
       "                        <td id=\"T_24b0efd0_7c66_11ed_abcc_3c91804d808arow12_col8\" class=\"data row12 col8\" >69.480122</td>\n",
       "            </tr>\n",
       "            <tr>\n",
       "                        <th id=\"T_24b0efd0_7c66_11ed_abcc_3c91804d808alevel0_row13\" class=\"row_heading level0 row13\" >Wilson High School</th>\n",
       "                        <td id=\"T_24b0efd0_7c66_11ed_abcc_3c91804d808arow13_col0\" class=\"data row13 col0\" >Independent</td>\n",
       "                        <td id=\"T_24b0efd0_7c66_11ed_abcc_3c91804d808arow13_col1\" class=\"data row13 col1\" >2283</td>\n",
       "                        <td id=\"T_24b0efd0_7c66_11ed_abcc_3c91804d808arow13_col2\" class=\"data row13 col2\" >$1,319,574.00</td>\n",
       "                        <td id=\"T_24b0efd0_7c66_11ed_abcc_3c91804d808arow13_col3\" class=\"data row13 col3\" >$578.00</td>\n",
       "                        <td id=\"T_24b0efd0_7c66_11ed_abcc_3c91804d808arow13_col4\" class=\"data row13 col4\" >69.170828</td>\n",
       "                        <td id=\"T_24b0efd0_7c66_11ed_abcc_3c91804d808arow13_col5\" class=\"data row13 col5\" >68.876916</td>\n",
       "                        <td id=\"T_24b0efd0_7c66_11ed_abcc_3c91804d808arow13_col6\" class=\"data row13 col6\" >82.785808</td>\n",
       "                        <td id=\"T_24b0efd0_7c66_11ed_abcc_3c91804d808arow13_col7\" class=\"data row13 col7\" >81.296540</td>\n",
       "                        <td id=\"T_24b0efd0_7c66_11ed_abcc_3c91804d808arow13_col8\" class=\"data row13 col8\" >67.455103</td>\n",
       "            </tr>\n",
       "            <tr>\n",
       "                        <th id=\"T_24b0efd0_7c66_11ed_abcc_3c91804d808alevel0_row14\" class=\"row_heading level0 row14\" >Wright High School</th>\n",
       "                        <td id=\"T_24b0efd0_7c66_11ed_abcc_3c91804d808arow14_col0\" class=\"data row14 col0\" >Independent</td>\n",
       "                        <td id=\"T_24b0efd0_7c66_11ed_abcc_3c91804d808arow14_col1\" class=\"data row14 col1\" >1800</td>\n",
       "                        <td id=\"T_24b0efd0_7c66_11ed_abcc_3c91804d808arow14_col2\" class=\"data row14 col2\" >$1,049,400.00</td>\n",
       "                        <td id=\"T_24b0efd0_7c66_11ed_abcc_3c91804d808arow14_col3\" class=\"data row14 col3\" >$583.00</td>\n",
       "                        <td id=\"T_24b0efd0_7c66_11ed_abcc_3c91804d808arow14_col4\" class=\"data row14 col4\" >72.047222</td>\n",
       "                        <td id=\"T_24b0efd0_7c66_11ed_abcc_3c91804d808arow14_col5\" class=\"data row14 col5\" >70.969444</td>\n",
       "                        <td id=\"T_24b0efd0_7c66_11ed_abcc_3c91804d808arow14_col6\" class=\"data row14 col6\" >91.777778</td>\n",
       "                        <td id=\"T_24b0efd0_7c66_11ed_abcc_3c91804d808arow14_col7\" class=\"data row14 col7\" >86.666667</td>\n",
       "                        <td id=\"T_24b0efd0_7c66_11ed_abcc_3c91804d808arow14_col8\" class=\"data row14 col8\" >79.722222</td>\n",
       "            </tr>\n",
       "    </tbody></table>"
      ],
      "text/plain": [
       "<pandas.io.formats.style.Styler at 0x1e4764f3b88>"
      ]
     },
     "execution_count": 176,
     "metadata": {},
     "output_type": "execute_result"
    }
   ],
   "source": [
    "school_summary = pd.DataFrame({\n",
    "    \"School Type\": school_type,\n",
    "    \"Total Students\": total_student,\n",
    "    \"Per Student Budget\": budget_per_student,\n",
    "    \"Total School Budget\": total_school_budget,\n",
    "    \"Average Math Score\": average_math_score,\n",
    "    \"Average Reading Score\": average_reading_score,\n",
    "    '% Passing Math': pass_math_percent,\n",
    "    '% Passing Reading': pass_read_percent,\n",
    "    \"% Overall Passing\": overall_pass\n",
    "})\n",
    "#munging\n",
    "school_summary = school_summary[['School Type', \n",
    "                          'Total Students', \n",
    "                          'Total School Budget', \n",
    "                          'Per Student Budget', \n",
    "                          'Average Math Score', \n",
    "                          'Average Reading Score',\n",
    "                          '% Passing Math',\n",
    "                          '% Passing Reading',\n",
    "                          '% Overall Passing']]\n",
    "#formatting\n",
    "school_summary.style.format({'Total Students': '{:}',\n",
    "                          \"Total School Budget\": \"${:,.2f}\",\n",
    "                          \"Per Student Budget\": \"${:.2f}\",\n",
    "                          'Average Math Score': \"{:6f}\", \n",
    "                          'Average Reading Score': \"{:6f}\", \n",
    "                          \"% Passing Math\": \"{:6f}\", \n",
    "                          \"% Passing Reading\": \"{:6f}\",})"
   ]
  },
  {
   "cell_type": "markdown",
   "metadata": {},
   "source": [
    "# Top Performing Schools (By % Overall Passing)"
   ]
  },
  {
   "cell_type": "code",
   "execution_count": 177,
   "metadata": {
    "scrolled": true
   },
   "outputs": [
    {
     "data": {
      "text/html": [
       "<style  type=\"text/css\" >\n",
       "</style><table id=\"T_8dc8b050_7c66_11ed_a867_3c91804d808a\" ><thead>    <tr>        <th class=\"blank level0\" ></th>        <th class=\"col_heading level0 col0\" >School Type</th>        <th class=\"col_heading level0 col1\" >Total Students</th>        <th class=\"col_heading level0 col2\" >Total School Budget</th>        <th class=\"col_heading level0 col3\" >Per Student Budget</th>        <th class=\"col_heading level0 col4\" >Average Math Score</th>        <th class=\"col_heading level0 col5\" >Average Reading Score</th>        <th class=\"col_heading level0 col6\" >% Passing Math</th>        <th class=\"col_heading level0 col7\" >% Passing Reading</th>        <th class=\"col_heading level0 col8\" >% Overall Passing</th>    </tr></thead><tbody>\n",
       "                <tr>\n",
       "                        <th id=\"T_8dc8b050_7c66_11ed_a867_3c91804d808alevel0_row0\" class=\"row_heading level0 row0\" >Griffin High School</th>\n",
       "                        <td id=\"T_8dc8b050_7c66_11ed_a867_3c91804d808arow0_col0\" class=\"data row0 col0\" >Independent</td>\n",
       "                        <td id=\"T_8dc8b050_7c66_11ed_a867_3c91804d808arow0_col1\" class=\"data row0 col1\" >$1468</td>\n",
       "                        <td id=\"T_8dc8b050_7c66_11ed_a867_3c91804d808arow0_col2\" class=\"data row0 col2\" >$917,500.00</td>\n",
       "                        <td id=\"T_8dc8b050_7c66_11ed_a867_3c91804d808arow0_col3\" class=\"data row0 col3\" >$625.00</td>\n",
       "                        <td id=\"T_8dc8b050_7c66_11ed_a867_3c91804d808arow0_col4\" class=\"data row0 col4\" >71.788147</td>\n",
       "                        <td id=\"T_8dc8b050_7c66_11ed_a867_3c91804d808arow0_col5\" class=\"data row0 col5\" >71.245232</td>\n",
       "                        <td id=\"T_8dc8b050_7c66_11ed_a867_3c91804d808arow0_col6\" class=\"data row0 col6\" >$91.212534</td>\n",
       "                        <td id=\"T_8dc8b050_7c66_11ed_a867_3c91804d808arow0_col7\" class=\"data row0 col7\" >$88.487738</td>\n",
       "                        <td id=\"T_8dc8b050_7c66_11ed_a867_3c91804d808arow0_col8\" class=\"data row0 col8\" >$81.335150</td>\n",
       "            </tr>\n",
       "            <tr>\n",
       "                        <th id=\"T_8dc8b050_7c66_11ed_a867_3c91804d808alevel0_row1\" class=\"row_heading level0 row1\" >Cabrera High School</th>\n",
       "                        <td id=\"T_8dc8b050_7c66_11ed_a867_3c91804d808arow1_col0\" class=\"data row1 col0\" >Independent</td>\n",
       "                        <td id=\"T_8dc8b050_7c66_11ed_a867_3c91804d808arow1_col1\" class=\"data row1 col1\" >$1858</td>\n",
       "                        <td id=\"T_8dc8b050_7c66_11ed_a867_3c91804d808arow1_col2\" class=\"data row1 col2\" >$1,081,356.00</td>\n",
       "                        <td id=\"T_8dc8b050_7c66_11ed_a867_3c91804d808arow1_col3\" class=\"data row1 col3\" >$582.00</td>\n",
       "                        <td id=\"T_8dc8b050_7c66_11ed_a867_3c91804d808arow1_col4\" class=\"data row1 col4\" >71.657158</td>\n",
       "                        <td id=\"T_8dc8b050_7c66_11ed_a867_3c91804d808arow1_col5\" class=\"data row1 col5\" >71.359526</td>\n",
       "                        <td id=\"T_8dc8b050_7c66_11ed_a867_3c91804d808arow1_col6\" class=\"data row1 col6\" >$90.850377</td>\n",
       "                        <td id=\"T_8dc8b050_7c66_11ed_a867_3c91804d808arow1_col7\" class=\"data row1 col7\" >$89.074273</td>\n",
       "                        <td id=\"T_8dc8b050_7c66_11ed_a867_3c91804d808arow1_col8\" class=\"data row1 col8\" >$80.785791</td>\n",
       "            </tr>\n",
       "            <tr>\n",
       "                        <th id=\"T_8dc8b050_7c66_11ed_a867_3c91804d808alevel0_row2\" class=\"row_heading level0 row2\" >Bailey High School</th>\n",
       "                        <td id=\"T_8dc8b050_7c66_11ed_a867_3c91804d808arow2_col0\" class=\"data row2 col0\" >Government</td>\n",
       "                        <td id=\"T_8dc8b050_7c66_11ed_a867_3c91804d808arow2_col1\" class=\"data row2 col1\" >$4976</td>\n",
       "                        <td id=\"T_8dc8b050_7c66_11ed_a867_3c91804d808arow2_col2\" class=\"data row2 col2\" >$3,124,928.00</td>\n",
       "                        <td id=\"T_8dc8b050_7c66_11ed_a867_3c91804d808arow2_col3\" class=\"data row2 col3\" >$628.00</td>\n",
       "                        <td id=\"T_8dc8b050_7c66_11ed_a867_3c91804d808arow2_col4\" class=\"data row2 col4\" >72.352894</td>\n",
       "                        <td id=\"T_8dc8b050_7c66_11ed_a867_3c91804d808arow2_col5\" class=\"data row2 col5\" >71.008842</td>\n",
       "                        <td id=\"T_8dc8b050_7c66_11ed_a867_3c91804d808arow2_col6\" class=\"data row2 col6\" >$91.639871</td>\n",
       "                        <td id=\"T_8dc8b050_7c66_11ed_a867_3c91804d808arow2_col7\" class=\"data row2 col7\" >$87.379421</td>\n",
       "                        <td id=\"T_8dc8b050_7c66_11ed_a867_3c91804d808arow2_col8\" class=\"data row2 col8\" >$80.084405</td>\n",
       "            </tr>\n",
       "            <tr>\n",
       "                        <th id=\"T_8dc8b050_7c66_11ed_a867_3c91804d808alevel0_row3\" class=\"row_heading level0 row3\" >Wright High School</th>\n",
       "                        <td id=\"T_8dc8b050_7c66_11ed_a867_3c91804d808arow3_col0\" class=\"data row3 col0\" >Independent</td>\n",
       "                        <td id=\"T_8dc8b050_7c66_11ed_a867_3c91804d808arow3_col1\" class=\"data row3 col1\" >$1800</td>\n",
       "                        <td id=\"T_8dc8b050_7c66_11ed_a867_3c91804d808arow3_col2\" class=\"data row3 col2\" >$1,049,400.00</td>\n",
       "                        <td id=\"T_8dc8b050_7c66_11ed_a867_3c91804d808arow3_col3\" class=\"data row3 col3\" >$583.00</td>\n",
       "                        <td id=\"T_8dc8b050_7c66_11ed_a867_3c91804d808arow3_col4\" class=\"data row3 col4\" >72.047222</td>\n",
       "                        <td id=\"T_8dc8b050_7c66_11ed_a867_3c91804d808arow3_col5\" class=\"data row3 col5\" >70.969444</td>\n",
       "                        <td id=\"T_8dc8b050_7c66_11ed_a867_3c91804d808arow3_col6\" class=\"data row3 col6\" >$91.777778</td>\n",
       "                        <td id=\"T_8dc8b050_7c66_11ed_a867_3c91804d808arow3_col7\" class=\"data row3 col7\" >$86.666667</td>\n",
       "                        <td id=\"T_8dc8b050_7c66_11ed_a867_3c91804d808arow3_col8\" class=\"data row3 col8\" >$79.722222</td>\n",
       "            </tr>\n",
       "            <tr>\n",
       "                        <th id=\"T_8dc8b050_7c66_11ed_a867_3c91804d808alevel0_row4\" class=\"row_heading level0 row4\" >Rodriguez High School</th>\n",
       "                        <td id=\"T_8dc8b050_7c66_11ed_a867_3c91804d808arow4_col0\" class=\"data row4 col0\" >Government</td>\n",
       "                        <td id=\"T_8dc8b050_7c66_11ed_a867_3c91804d808arow4_col1\" class=\"data row4 col1\" >$3999</td>\n",
       "                        <td id=\"T_8dc8b050_7c66_11ed_a867_3c91804d808arow4_col2\" class=\"data row4 col2\" >$2,547,363.00</td>\n",
       "                        <td id=\"T_8dc8b050_7c66_11ed_a867_3c91804d808arow4_col3\" class=\"data row4 col3\" >$637.00</td>\n",
       "                        <td id=\"T_8dc8b050_7c66_11ed_a867_3c91804d808arow4_col4\" class=\"data row4 col4\" >72.047762</td>\n",
       "                        <td id=\"T_8dc8b050_7c66_11ed_a867_3c91804d808arow4_col5\" class=\"data row4 col5\" >70.935984</td>\n",
       "                        <td id=\"T_8dc8b050_7c66_11ed_a867_3c91804d808arow4_col6\" class=\"data row4 col6\" >$90.797699</td>\n",
       "                        <td id=\"T_8dc8b050_7c66_11ed_a867_3c91804d808arow4_col7\" class=\"data row4 col7\" >$87.396849</td>\n",
       "                        <td id=\"T_8dc8b050_7c66_11ed_a867_3c91804d808arow4_col8\" class=\"data row4 col8\" >$79.419855</td>\n",
       "            </tr>\n",
       "    </tbody></table>"
      ],
      "text/plain": [
       "<pandas.io.formats.style.Styler at 0x1e4765d2d88>"
      ]
     },
     "execution_count": 177,
     "metadata": {},
     "output_type": "execute_result"
    }
   ],
   "source": [
    "top_perform = school_summary.sort_values(\"% Overall Passing\", ascending = False)\n",
    "top_perform.head().style.format({'Total Students': \"${:}\",\n",
    "                           \"Total School Budget\": \"${:,.2f}\", \n",
    "                           \"Per Student Budget\": \"${:.2f}\", \n",
    "                           \"% Passing Math\": \"${:6f}\", \n",
    "                           \"% Passing Reading\": \"${:6f}\", \n",
    "                           \"% Overall Passing\": \"${:6f}\"})"
   ]
  },
  {
   "cell_type": "markdown",
   "metadata": {},
   "source": [
    "## Bottom Performing Schools (By % Overall Passing)"
   ]
  },
  {
   "cell_type": "markdown",
   "metadata": {},
   "source": [
    "* Sort and display the five worst-performing schools by % overall passing."
   ]
  },
  {
   "cell_type": "code",
   "execution_count": 185,
   "metadata": {},
   "outputs": [
    {
     "data": {
      "text/html": [
       "<style  type=\"text/css\" >\n",
       "</style><table id=\"T_c99c621e_7c6e_11ed_9919_3c91804d808a\" ><thead>    <tr>        <th class=\"blank level0\" ></th>        <th class=\"col_heading level0 col0\" >School Type</th>        <th class=\"col_heading level0 col1\" >Total Students</th>        <th class=\"col_heading level0 col2\" >Total School Budget</th>        <th class=\"col_heading level0 col3\" >Per Student Budget</th>        <th class=\"col_heading level0 col4\" >Average Math Score</th>        <th class=\"col_heading level0 col5\" >Average Reading Score</th>        <th class=\"col_heading level0 col6\" >% Passing Math</th>        <th class=\"col_heading level0 col7\" >% Passing Reading</th>        <th class=\"col_heading level0 col8\" >% Overall Passing</th>    </tr></thead><tbody>\n",
       "                <tr>\n",
       "                        <th id=\"T_c99c621e_7c6e_11ed_9919_3c91804d808alevel0_row0\" class=\"row_heading level0 row0\" >Hernandez High School</th>\n",
       "                        <td id=\"T_c99c621e_7c6e_11ed_9919_3c91804d808arow0_col0\" class=\"data row0 col0\" >Government</td>\n",
       "                        <td id=\"T_c99c621e_7c6e_11ed_9919_3c91804d808arow0_col1\" class=\"data row0 col1\" > 4635</td>\n",
       "                        <td id=\"T_c99c621e_7c6e_11ed_9919_3c91804d808arow0_col2\" class=\"data row0 col2\" >$3,022,020.00</td>\n",
       "                        <td id=\"T_c99c621e_7c6e_11ed_9919_3c91804d808arow0_col3\" class=\"data row0 col3\" >$652.00</td>\n",
       "                        <td id=\"T_c99c621e_7c6e_11ed_9919_3c91804d808arow0_col4\" class=\"data row0 col4\" >68.874865</td>\n",
       "                        <td id=\"T_c99c621e_7c6e_11ed_9919_3c91804d808arow0_col5\" class=\"data row0 col5\" >69.186408</td>\n",
       "                        <td id=\"T_c99c621e_7c6e_11ed_9919_3c91804d808arow0_col6\" class=\"data row0 col6\" >80.949299</td>\n",
       "                        <td id=\"T_c99c621e_7c6e_11ed_9919_3c91804d808arow0_col7\" class=\"data row0 col7\" >81.877023</td>\n",
       "                        <td id=\"T_c99c621e_7c6e_11ed_9919_3c91804d808arow0_col8\" class=\"data row0 col8\" >66.364617</td>\n",
       "            </tr>\n",
       "            <tr>\n",
       "                        <th id=\"T_c99c621e_7c6e_11ed_9919_3c91804d808alevel0_row1\" class=\"row_heading level0 row1\" >Huang High School</th>\n",
       "                        <td id=\"T_c99c621e_7c6e_11ed_9919_3c91804d808arow1_col0\" class=\"data row1 col0\" >Government</td>\n",
       "                        <td id=\"T_c99c621e_7c6e_11ed_9919_3c91804d808arow1_col1\" class=\"data row1 col1\" > 2917</td>\n",
       "                        <td id=\"T_c99c621e_7c6e_11ed_9919_3c91804d808arow1_col2\" class=\"data row1 col2\" >$1,910,635.00</td>\n",
       "                        <td id=\"T_c99c621e_7c6e_11ed_9919_3c91804d808arow1_col3\" class=\"data row1 col3\" >$655.00</td>\n",
       "                        <td id=\"T_c99c621e_7c6e_11ed_9919_3c91804d808arow1_col4\" class=\"data row1 col4\" >68.935207</td>\n",
       "                        <td id=\"T_c99c621e_7c6e_11ed_9919_3c91804d808arow1_col5\" class=\"data row1 col5\" >68.910525</td>\n",
       "                        <td id=\"T_c99c621e_7c6e_11ed_9919_3c91804d808arow1_col6\" class=\"data row1 col6\" >81.693521</td>\n",
       "                        <td id=\"T_c99c621e_7c6e_11ed_9919_3c91804d808arow1_col7\" class=\"data row1 col7\" >81.453548</td>\n",
       "                        <td id=\"T_c99c621e_7c6e_11ed_9919_3c91804d808arow1_col8\" class=\"data row1 col8\" >66.712376</td>\n",
       "            </tr>\n",
       "            <tr>\n",
       "                        <th id=\"T_c99c621e_7c6e_11ed_9919_3c91804d808alevel0_row2\" class=\"row_heading level0 row2\" >Johnson High School</th>\n",
       "                        <td id=\"T_c99c621e_7c6e_11ed_9919_3c91804d808arow2_col0\" class=\"data row2 col0\" >Government</td>\n",
       "                        <td id=\"T_c99c621e_7c6e_11ed_9919_3c91804d808arow2_col1\" class=\"data row2 col1\" > 4761</td>\n",
       "                        <td id=\"T_c99c621e_7c6e_11ed_9919_3c91804d808arow2_col2\" class=\"data row2 col2\" >$3,094,650.00</td>\n",
       "                        <td id=\"T_c99c621e_7c6e_11ed_9919_3c91804d808arow2_col3\" class=\"data row2 col3\" >$650.00</td>\n",
       "                        <td id=\"T_c99c621e_7c6e_11ed_9919_3c91804d808arow2_col4\" class=\"data row2 col4\" >68.843100</td>\n",
       "                        <td id=\"T_c99c621e_7c6e_11ed_9919_3c91804d808arow2_col5\" class=\"data row2 col5\" >69.039277</td>\n",
       "                        <td id=\"T_c99c621e_7c6e_11ed_9919_3c91804d808arow2_col6\" class=\"data row2 col6\" >82.062592</td>\n",
       "                        <td id=\"T_c99c621e_7c6e_11ed_9919_3c91804d808arow2_col7\" class=\"data row2 col7\" >81.978576</td>\n",
       "                        <td id=\"T_c99c621e_7c6e_11ed_9919_3c91804d808arow2_col8\" class=\"data row2 col8\" >67.191766</td>\n",
       "            </tr>\n",
       "            <tr>\n",
       "                        <th id=\"T_c99c621e_7c6e_11ed_9919_3c91804d808alevel0_row3\" class=\"row_heading level0 row3\" >Wilson High School</th>\n",
       "                        <td id=\"T_c99c621e_7c6e_11ed_9919_3c91804d808arow3_col0\" class=\"data row3 col0\" >Independent</td>\n",
       "                        <td id=\"T_c99c621e_7c6e_11ed_9919_3c91804d808arow3_col1\" class=\"data row3 col1\" > 2283</td>\n",
       "                        <td id=\"T_c99c621e_7c6e_11ed_9919_3c91804d808arow3_col2\" class=\"data row3 col2\" >$1,319,574.00</td>\n",
       "                        <td id=\"T_c99c621e_7c6e_11ed_9919_3c91804d808arow3_col3\" class=\"data row3 col3\" >$578.00</td>\n",
       "                        <td id=\"T_c99c621e_7c6e_11ed_9919_3c91804d808arow3_col4\" class=\"data row3 col4\" >69.170828</td>\n",
       "                        <td id=\"T_c99c621e_7c6e_11ed_9919_3c91804d808arow3_col5\" class=\"data row3 col5\" >68.876916</td>\n",
       "                        <td id=\"T_c99c621e_7c6e_11ed_9919_3c91804d808arow3_col6\" class=\"data row3 col6\" >82.785808</td>\n",
       "                        <td id=\"T_c99c621e_7c6e_11ed_9919_3c91804d808arow3_col7\" class=\"data row3 col7\" >81.296540</td>\n",
       "                        <td id=\"T_c99c621e_7c6e_11ed_9919_3c91804d808arow3_col8\" class=\"data row3 col8\" >67.455103</td>\n",
       "            </tr>\n",
       "            <tr>\n",
       "                        <th id=\"T_c99c621e_7c6e_11ed_9919_3c91804d808alevel0_row4\" class=\"row_heading level0 row4\" >Ford High School</th>\n",
       "                        <td id=\"T_c99c621e_7c6e_11ed_9919_3c91804d808arow4_col0\" class=\"data row4 col0\" >Government</td>\n",
       "                        <td id=\"T_c99c621e_7c6e_11ed_9919_3c91804d808arow4_col1\" class=\"data row4 col1\" > 2739</td>\n",
       "                        <td id=\"T_c99c621e_7c6e_11ed_9919_3c91804d808arow4_col2\" class=\"data row4 col2\" >$1,763,916.00</td>\n",
       "                        <td id=\"T_c99c621e_7c6e_11ed_9919_3c91804d808arow4_col3\" class=\"data row4 col3\" >$644.00</td>\n",
       "                        <td id=\"T_c99c621e_7c6e_11ed_9919_3c91804d808arow4_col4\" class=\"data row4 col4\" >69.091274</td>\n",
       "                        <td id=\"T_c99c621e_7c6e_11ed_9919_3c91804d808arow4_col5\" class=\"data row4 col5\" >69.572472</td>\n",
       "                        <td id=\"T_c99c621e_7c6e_11ed_9919_3c91804d808arow4_col6\" class=\"data row4 col6\" >82.438846</td>\n",
       "                        <td id=\"T_c99c621e_7c6e_11ed_9919_3c91804d808arow4_col7\" class=\"data row4 col7\" >82.219788</td>\n",
       "                        <td id=\"T_c99c621e_7c6e_11ed_9919_3c91804d808arow4_col8\" class=\"data row4 col8\" >67.469880</td>\n",
       "            </tr>\n",
       "    </tbody></table>"
      ],
      "text/plain": [
       "<pandas.io.formats.style.Styler at 0x1e47661c808>"
      ]
     },
     "execution_count": 185,
     "metadata": {},
     "output_type": "execute_result"
    }
   ],
   "source": [
    "bottom_perform = top_perform.tail()\n",
    "bottom_perform = bottom_perform.sort_values('% Overall Passing')\n",
    "bottom_perform.style.format({'Total Students': '{: }', \n",
    "                       \"Total School Budget\": \"${:,.2f}\", \n",
    "                       \"Per Student Budget\": \"${:.2f}\", \n",
    "                       \"% Passing Math\": \"{:6f}\", \n",
    "                       \"% Passing Reading\": \"{:6f}\", \n",
    "                       \"% Overall Passing\": \"{:6f}\"})"
   ]
  },
  {
   "cell_type": "markdown",
   "metadata": {
    "collapsed": true
   },
   "source": [
    "## Maths Scores by Year"
   ]
  },
  {
   "cell_type": "markdown",
   "metadata": {},
   "source": [
    "* Create a table that lists the average maths score for students of each year level (9, 10, 11, 12) at each school.\n",
    "\n",
    "  * Create a pandas series for each year. Hint: use a conditional statement.\n",
    "  \n",
    "  * Group each series by school\n",
    "  \n",
    "  * Combine the series into a dataframe\n",
    "  \n",
    "  * Optional: give the displayed data cleaner formatting"
   ]
  },
  {
   "cell_type": "code",
   "execution_count": 202,
   "metadata": {},
   "outputs": [
    {
     "data": {
      "text/html": [
       "<style  type=\"text/css\" >\n",
       "</style><table id=\"T_810703c0_7c71_11ed_ac1f_3c91804d808a\" ><thead>    <tr>        <th class=\"blank level0\" ></th>        <th class=\"col_heading level0 col0\" >9th</th>        <th class=\"col_heading level0 col1\" >10th</th>        <th class=\"col_heading level0 col2\" >11th</th>        <th class=\"col_heading level0 col3\" >12th</th>    </tr>    <tr>        <th class=\"index_name level0\" >School Name</th>        <th class=\"blank\" ></th>        <th class=\"blank\" ></th>        <th class=\"blank\" ></th>        <th class=\"blank\" ></th>    </tr></thead><tbody>\n",
       "                <tr>\n",
       "                        <th id=\"T_810703c0_7c71_11ed_ac1f_3c91804d808alevel0_row0\" class=\"row_heading level0 row0\" >Bailey High School</th>\n",
       "                        <td id=\"T_810703c0_7c71_11ed_ac1f_3c91804d808arow0_col0\" class=\"data row0 col0\" >72.493827</td>\n",
       "                        <td id=\"T_810703c0_7c71_11ed_ac1f_3c91804d808arow0_col1\" class=\"data row0 col1\" >71.897498</td>\n",
       "                        <td id=\"T_810703c0_7c71_11ed_ac1f_3c91804d808arow0_col2\" class=\"data row0 col2\" >72.374900</td>\n",
       "                        <td id=\"T_810703c0_7c71_11ed_ac1f_3c91804d808arow0_col3\" class=\"data row0 col3\" >72.675097</td>\n",
       "            </tr>\n",
       "            <tr>\n",
       "                        <th id=\"T_810703c0_7c71_11ed_ac1f_3c91804d808alevel0_row1\" class=\"row_heading level0 row1\" >Cabrera High School</th>\n",
       "                        <td id=\"T_810703c0_7c71_11ed_ac1f_3c91804d808arow1_col0\" class=\"data row1 col0\" >72.321970</td>\n",
       "                        <td id=\"T_810703c0_7c71_11ed_ac1f_3c91804d808arow1_col1\" class=\"data row1 col1\" >72.437768</td>\n",
       "                        <td id=\"T_810703c0_7c71_11ed_ac1f_3c91804d808arow1_col2\" class=\"data row1 col2\" >71.008299</td>\n",
       "                        <td id=\"T_810703c0_7c71_11ed_ac1f_3c91804d808arow1_col3\" class=\"data row1 col3\" >70.604712</td>\n",
       "            </tr>\n",
       "            <tr>\n",
       "                        <th id=\"T_810703c0_7c71_11ed_ac1f_3c91804d808alevel0_row2\" class=\"row_heading level0 row2\" >Figueroa High School</th>\n",
       "                        <td id=\"T_810703c0_7c71_11ed_ac1f_3c91804d808arow2_col0\" class=\"data row2 col0\" >68.477804</td>\n",
       "                        <td id=\"T_810703c0_7c71_11ed_ac1f_3c91804d808arow2_col1\" class=\"data row2 col1\" >68.331586</td>\n",
       "                        <td id=\"T_810703c0_7c71_11ed_ac1f_3c91804d808arow2_col2\" class=\"data row2 col2\" >68.811001</td>\n",
       "                        <td id=\"T_810703c0_7c71_11ed_ac1f_3c91804d808arow2_col3\" class=\"data row2 col3\" >69.325282</td>\n",
       "            </tr>\n",
       "            <tr>\n",
       "                        <th id=\"T_810703c0_7c71_11ed_ac1f_3c91804d808alevel0_row3\" class=\"row_heading level0 row3\" >Ford High School</th>\n",
       "                        <td id=\"T_810703c0_7c71_11ed_ac1f_3c91804d808arow3_col0\" class=\"data row3 col0\" >69.021609</td>\n",
       "                        <td id=\"T_810703c0_7c71_11ed_ac1f_3c91804d808arow3_col1\" class=\"data row3 col1\" >69.387006</td>\n",
       "                        <td id=\"T_810703c0_7c71_11ed_ac1f_3c91804d808arow3_col2\" class=\"data row3 col2\" >69.248862</td>\n",
       "                        <td id=\"T_810703c0_7c71_11ed_ac1f_3c91804d808arow3_col3\" class=\"data row3 col3\" >68.617811</td>\n",
       "            </tr>\n",
       "            <tr>\n",
       "                        <th id=\"T_810703c0_7c71_11ed_ac1f_3c91804d808alevel0_row4\" class=\"row_heading level0 row4\" >Griffin High School</th>\n",
       "                        <td id=\"T_810703c0_7c71_11ed_ac1f_3c91804d808arow4_col0\" class=\"data row4 col0\" >72.789731</td>\n",
       "                        <td id=\"T_810703c0_7c71_11ed_ac1f_3c91804d808arow4_col1\" class=\"data row4 col1\" >71.093596</td>\n",
       "                        <td id=\"T_810703c0_7c71_11ed_ac1f_3c91804d808arow4_col2\" class=\"data row4 col2\" >71.692521</td>\n",
       "                        <td id=\"T_810703c0_7c71_11ed_ac1f_3c91804d808arow4_col3\" class=\"data row4 col3\" >71.469178</td>\n",
       "            </tr>\n",
       "            <tr>\n",
       "                        <th id=\"T_810703c0_7c71_11ed_ac1f_3c91804d808alevel0_row5\" class=\"row_heading level0 row5\" >Hernandez High School</th>\n",
       "                        <td id=\"T_810703c0_7c71_11ed_ac1f_3c91804d808arow5_col0\" class=\"data row5 col0\" >68.586831</td>\n",
       "                        <td id=\"T_810703c0_7c71_11ed_ac1f_3c91804d808arow5_col1\" class=\"data row5 col1\" >68.867156</td>\n",
       "                        <td id=\"T_810703c0_7c71_11ed_ac1f_3c91804d808arow5_col2\" class=\"data row5 col2\" >69.154412</td>\n",
       "                        <td id=\"T_810703c0_7c71_11ed_ac1f_3c91804d808arow5_col3\" class=\"data row5 col3\" >68.985075</td>\n",
       "            </tr>\n",
       "            <tr>\n",
       "                        <th id=\"T_810703c0_7c71_11ed_ac1f_3c91804d808alevel0_row6\" class=\"row_heading level0 row6\" >Holden High School</th>\n",
       "                        <td id=\"T_810703c0_7c71_11ed_ac1f_3c91804d808arow6_col0\" class=\"data row6 col0\" >70.543307</td>\n",
       "                        <td id=\"T_810703c0_7c71_11ed_ac1f_3c91804d808arow6_col1\" class=\"data row6 col1\" >75.105263</td>\n",
       "                        <td id=\"T_810703c0_7c71_11ed_ac1f_3c91804d808arow6_col2\" class=\"data row6 col2\" >71.640777</td>\n",
       "                        <td id=\"T_810703c0_7c71_11ed_ac1f_3c91804d808arow6_col3\" class=\"data row6 col3\" >73.409639</td>\n",
       "            </tr>\n",
       "            <tr>\n",
       "                        <th id=\"T_810703c0_7c71_11ed_ac1f_3c91804d808alevel0_row7\" class=\"row_heading level0 row7\" >Huang High School</th>\n",
       "                        <td id=\"T_810703c0_7c71_11ed_ac1f_3c91804d808arow7_col0\" class=\"data row7 col0\" >69.081754</td>\n",
       "                        <td id=\"T_810703c0_7c71_11ed_ac1f_3c91804d808arow7_col1\" class=\"data row7 col1\" >68.533246</td>\n",
       "                        <td id=\"T_810703c0_7c71_11ed_ac1f_3c91804d808arow7_col2\" class=\"data row7 col2\" >69.431345</td>\n",
       "                        <td id=\"T_810703c0_7c71_11ed_ac1f_3c91804d808arow7_col3\" class=\"data row7 col3\" >68.639316</td>\n",
       "            </tr>\n",
       "            <tr>\n",
       "                        <th id=\"T_810703c0_7c71_11ed_ac1f_3c91804d808alevel0_row8\" class=\"row_heading level0 row8\" >Johnson High School</th>\n",
       "                        <td id=\"T_810703c0_7c71_11ed_ac1f_3c91804d808arow8_col0\" class=\"data row8 col0\" >69.469286</td>\n",
       "                        <td id=\"T_810703c0_7c71_11ed_ac1f_3c91804d808arow8_col1\" class=\"data row8 col1\" >67.990220</td>\n",
       "                        <td id=\"T_810703c0_7c71_11ed_ac1f_3c91804d808arow8_col2\" class=\"data row8 col2\" >68.637730</td>\n",
       "                        <td id=\"T_810703c0_7c71_11ed_ac1f_3c91804d808arow8_col3\" class=\"data row8 col3\" >69.287393</td>\n",
       "            </tr>\n",
       "            <tr>\n",
       "                        <th id=\"T_810703c0_7c71_11ed_ac1f_3c91804d808alevel0_row9\" class=\"row_heading level0 row9\" >Pena High School</th>\n",
       "                        <td id=\"T_810703c0_7c71_11ed_ac1f_3c91804d808arow9_col0\" class=\"data row9 col0\" >71.996364</td>\n",
       "                        <td id=\"T_810703c0_7c71_11ed_ac1f_3c91804d808arow9_col1\" class=\"data row9 col1\" >72.396000</td>\n",
       "                        <td id=\"T_810703c0_7c71_11ed_ac1f_3c91804d808arow9_col2\" class=\"data row9 col2\" >72.523438</td>\n",
       "                        <td id=\"T_810703c0_7c71_11ed_ac1f_3c91804d808arow9_col3\" class=\"data row9 col3\" >71.187845</td>\n",
       "            </tr>\n",
       "            <tr>\n",
       "                        <th id=\"T_810703c0_7c71_11ed_ac1f_3c91804d808alevel0_row10\" class=\"row_heading level0 row10\" >Rodriguez High School</th>\n",
       "                        <td id=\"T_810703c0_7c71_11ed_ac1f_3c91804d808arow10_col0\" class=\"data row10 col0\" >71.940722</td>\n",
       "                        <td id=\"T_810703c0_7c71_11ed_ac1f_3c91804d808arow10_col1\" class=\"data row10 col1\" >71.779808</td>\n",
       "                        <td id=\"T_810703c0_7c71_11ed_ac1f_3c91804d808arow10_col2\" class=\"data row10 col2\" >72.364811</td>\n",
       "                        <td id=\"T_810703c0_7c71_11ed_ac1f_3c91804d808arow10_col3\" class=\"data row10 col3\" >72.154626</td>\n",
       "            </tr>\n",
       "            <tr>\n",
       "                        <th id=\"T_810703c0_7c71_11ed_ac1f_3c91804d808alevel0_row11\" class=\"row_heading level0 row11\" >Shelton High School</th>\n",
       "                        <td id=\"T_810703c0_7c71_11ed_ac1f_3c91804d808arow11_col0\" class=\"data row11 col0\" >72.932075</td>\n",
       "                        <td id=\"T_810703c0_7c71_11ed_ac1f_3c91804d808arow11_col1\" class=\"data row11 col1\" >72.506696</td>\n",
       "                        <td id=\"T_810703c0_7c71_11ed_ac1f_3c91804d808arow11_col2\" class=\"data row11 col2\" >70.097087</td>\n",
       "                        <td id=\"T_810703c0_7c71_11ed_ac1f_3c91804d808arow11_col3\" class=\"data row11 col3\" >72.331536</td>\n",
       "            </tr>\n",
       "            <tr>\n",
       "                        <th id=\"T_810703c0_7c71_11ed_ac1f_3c91804d808alevel0_row12\" class=\"row_heading level0 row12\" >Thomas High School</th>\n",
       "                        <td id=\"T_810703c0_7c71_11ed_ac1f_3c91804d808arow12_col0\" class=\"data row12 col0\" >69.234273</td>\n",
       "                        <td id=\"T_810703c0_7c71_11ed_ac1f_3c91804d808arow12_col1\" class=\"data row12 col1\" >70.057007</td>\n",
       "                        <td id=\"T_810703c0_7c71_11ed_ac1f_3c91804d808arow12_col2\" class=\"data row12 col2\" >69.657831</td>\n",
       "                        <td id=\"T_810703c0_7c71_11ed_ac1f_3c91804d808arow12_col3\" class=\"data row12 col3\" >69.369822</td>\n",
       "            </tr>\n",
       "            <tr>\n",
       "                        <th id=\"T_810703c0_7c71_11ed_ac1f_3c91804d808alevel0_row13\" class=\"row_heading level0 row13\" >Wilson High School</th>\n",
       "                        <td id=\"T_810703c0_7c71_11ed_ac1f_3c91804d808arow13_col0\" class=\"data row13 col0\" >69.212361</td>\n",
       "                        <td id=\"T_810703c0_7c71_11ed_ac1f_3c91804d808arow13_col1\" class=\"data row13 col1\" >69.455446</td>\n",
       "                        <td id=\"T_810703c0_7c71_11ed_ac1f_3c91804d808arow13_col2\" class=\"data row13 col2\" >68.378965</td>\n",
       "                        <td id=\"T_810703c0_7c71_11ed_ac1f_3c91804d808arow13_col3\" class=\"data row13 col3\" >69.787472</td>\n",
       "            </tr>\n",
       "            <tr>\n",
       "                        <th id=\"T_810703c0_7c71_11ed_ac1f_3c91804d808alevel0_row14\" class=\"row_heading level0 row14\" >Wright High School</th>\n",
       "                        <td id=\"T_810703c0_7c71_11ed_ac1f_3c91804d808arow14_col0\" class=\"data row14 col0\" >71.741176</td>\n",
       "                        <td id=\"T_810703c0_7c71_11ed_ac1f_3c91804d808arow14_col1\" class=\"data row14 col1\" >72.179012</td>\n",
       "                        <td id=\"T_810703c0_7c71_11ed_ac1f_3c91804d808arow14_col2\" class=\"data row14 col2\" >73.275862</td>\n",
       "                        <td id=\"T_810703c0_7c71_11ed_ac1f_3c91804d808arow14_col3\" class=\"data row14 col3\" >70.848238</td>\n",
       "            </tr>\n",
       "    </tbody></table>"
      ],
      "text/plain": [
       "<pandas.io.formats.style.Styler at 0x1e476983c88>"
      ]
     },
     "execution_count": 202,
     "metadata": {},
     "output_type": "execute_result"
    }
   ],
   "source": [
    "ninth_math = student_data.loc[student_data['year'] == 9].groupby('school_name')[\"maths_score\"].mean()\n",
    "tenth_math = student_data.loc[student_data['year'] == 10].groupby('school_name')[\"maths_score\"].mean()\n",
    "eleventh_math = student_data.loc[student_data['year'] == 11].groupby('school_name')[\"maths_score\"].mean()\n",
    "twelfth_math = student_data.loc[student_data['year'] == 12].groupby('school_name')[\"maths_score\"].mean()\n",
    "\n",
    "math_scores = pd.DataFrame({\n",
    "        \"9th\": ninth_math,\n",
    "        \"10th\": tenth_math,\n",
    "        \"11th\": eleventh_math,\n",
    "        \"12th\": twelfth_math\n",
    "})\n",
    "math_scores = math_scores[['9th', '10th', '11th', '12th']]\n",
    "math_scores.index.name = \"School Name\"\n",
    "\n",
    "#show and format\n",
    "math_scores.style.format({'9th': '{:.6f}', \n",
    "                          \"10th\": '{:.6f}', \n",
    "                          \"11th\": \"{:.6f}\", \n",
    "                          \"12th\": \"{:.6f}\"})"
   ]
  },
  {
   "cell_type": "markdown",
   "metadata": {},
   "source": [
    "## Reading Score by Year"
   ]
  },
  {
   "cell_type": "markdown",
   "metadata": {},
   "source": [
    "* Perform the same operations as above for reading scores"
   ]
  },
  {
   "cell_type": "code",
   "execution_count": 207,
   "metadata": {},
   "outputs": [
    {
     "data": {
      "text/html": [
       "<style  type=\"text/css\" >\n",
       "</style><table id=\"T_8b918a9a_7c72_11ed_aaf9_3c91804d808a\" ><thead>    <tr>        <th class=\"blank level0\" ></th>        <th class=\"col_heading level0 col0\" >9th</th>        <th class=\"col_heading level0 col1\" >10th</th>        <th class=\"col_heading level0 col2\" >11th</th>        <th class=\"col_heading level0 col3\" >12th</th>    </tr>    <tr>        <th class=\"index_name level0\" >School Name</th>        <th class=\"blank\" ></th>        <th class=\"blank\" ></th>        <th class=\"blank\" ></th>        <th class=\"blank\" ></th>    </tr></thead><tbody>\n",
       "                <tr>\n",
       "                        <th id=\"T_8b918a9a_7c72_11ed_aaf9_3c91804d808alevel0_row0\" class=\"row_heading level0 row0\" >Bailey High School</th>\n",
       "                        <td id=\"T_8b918a9a_7c72_11ed_aaf9_3c91804d808arow0_col0\" class=\"data row0 col0\" >70.901920</td>\n",
       "                        <td id=\"T_8b918a9a_7c72_11ed_aaf9_3c91804d808arow0_col1\" class=\"data row0 col1\" >70.848265</td>\n",
       "                        <td id=\"T_8b918a9a_7c72_11ed_aaf9_3c91804d808arow0_col2\" class=\"data row0 col2\" >70.317346</td>\n",
       "                        <td id=\"T_8b918a9a_7c72_11ed_aaf9_3c91804d808arow0_col3\" class=\"data row0 col3\" >72.195525</td>\n",
       "            </tr>\n",
       "            <tr>\n",
       "                        <th id=\"T_8b918a9a_7c72_11ed_aaf9_3c91804d808alevel0_row1\" class=\"row_heading level0 row1\" >Cabrera High School</th>\n",
       "                        <td id=\"T_8b918a9a_7c72_11ed_aaf9_3c91804d808arow1_col0\" class=\"data row1 col0\" >71.172348</td>\n",
       "                        <td id=\"T_8b918a9a_7c72_11ed_aaf9_3c91804d808arow1_col1\" class=\"data row1 col1\" >71.328326</td>\n",
       "                        <td id=\"T_8b918a9a_7c72_11ed_aaf9_3c91804d808arow1_col2\" class=\"data row1 col2\" >71.201245</td>\n",
       "                        <td id=\"T_8b918a9a_7c72_11ed_aaf9_3c91804d808arow1_col3\" class=\"data row1 col3\" >71.856021</td>\n",
       "            </tr>\n",
       "            <tr>\n",
       "                        <th id=\"T_8b918a9a_7c72_11ed_aaf9_3c91804d808alevel0_row2\" class=\"row_heading level0 row2\" >Figueroa High School</th>\n",
       "                        <td id=\"T_8b918a9a_7c72_11ed_aaf9_3c91804d808arow2_col0\" class=\"data row2 col0\" >70.261682</td>\n",
       "                        <td id=\"T_8b918a9a_7c72_11ed_aaf9_3c91804d808arow2_col1\" class=\"data row2 col1\" >67.677588</td>\n",
       "                        <td id=\"T_8b918a9a_7c72_11ed_aaf9_3c91804d808arow2_col2\" class=\"data row2 col2\" >69.152327</td>\n",
       "                        <td id=\"T_8b918a9a_7c72_11ed_aaf9_3c91804d808arow2_col3\" class=\"data row2 col3\" >69.082126</td>\n",
       "            </tr>\n",
       "            <tr>\n",
       "                        <th id=\"T_8b918a9a_7c72_11ed_aaf9_3c91804d808alevel0_row3\" class=\"row_heading level0 row3\" >Ford High School</th>\n",
       "                        <td id=\"T_8b918a9a_7c72_11ed_aaf9_3c91804d808arow3_col0\" class=\"data row3 col0\" >69.615846</td>\n",
       "                        <td id=\"T_8b918a9a_7c72_11ed_aaf9_3c91804d808arow3_col1\" class=\"data row3 col1\" >68.988701</td>\n",
       "                        <td id=\"T_8b918a9a_7c72_11ed_aaf9_3c91804d808arow3_col2\" class=\"data row3 col2\" >70.735964</td>\n",
       "                        <td id=\"T_8b918a9a_7c72_11ed_aaf9_3c91804d808arow3_col3\" class=\"data row3 col3\" >68.849722</td>\n",
       "            </tr>\n",
       "            <tr>\n",
       "                        <th id=\"T_8b918a9a_7c72_11ed_aaf9_3c91804d808alevel0_row4\" class=\"row_heading level0 row4\" >Griffin High School</th>\n",
       "                        <td id=\"T_8b918a9a_7c72_11ed_aaf9_3c91804d808arow4_col0\" class=\"data row4 col0\" >72.026895</td>\n",
       "                        <td id=\"T_8b918a9a_7c72_11ed_aaf9_3c91804d808arow4_col1\" class=\"data row4 col1\" >70.746305</td>\n",
       "                        <td id=\"T_8b918a9a_7c72_11ed_aaf9_3c91804d808arow4_col2\" class=\"data row4 col2\" >72.385042</td>\n",
       "                        <td id=\"T_8b918a9a_7c72_11ed_aaf9_3c91804d808arow4_col3\" class=\"data row4 col3\" >69.434932</td>\n",
       "            </tr>\n",
       "            <tr>\n",
       "                        <th id=\"T_8b918a9a_7c72_11ed_aaf9_3c91804d808alevel0_row5\" class=\"row_heading level0 row5\" >Hernandez High School</th>\n",
       "                        <td id=\"T_8b918a9a_7c72_11ed_aaf9_3c91804d808arow5_col0\" class=\"data row5 col0\" >68.477569</td>\n",
       "                        <td id=\"T_8b918a9a_7c72_11ed_aaf9_3c91804d808arow5_col1\" class=\"data row5 col1\" >70.621842</td>\n",
       "                        <td id=\"T_8b918a9a_7c72_11ed_aaf9_3c91804d808arow5_col2\" class=\"data row5 col2\" >68.418199</td>\n",
       "                        <td id=\"T_8b918a9a_7c72_11ed_aaf9_3c91804d808arow5_col3\" class=\"data row5 col3\" >69.244136</td>\n",
       "            </tr>\n",
       "            <tr>\n",
       "                        <th id=\"T_8b918a9a_7c72_11ed_aaf9_3c91804d808alevel0_row6\" class=\"row_heading level0 row6\" >Holden High School</th>\n",
       "                        <td id=\"T_8b918a9a_7c72_11ed_aaf9_3c91804d808arow6_col0\" class=\"data row6 col0\" >71.598425</td>\n",
       "                        <td id=\"T_8b918a9a_7c72_11ed_aaf9_3c91804d808arow6_col1\" class=\"data row6 col1\" >71.096491</td>\n",
       "                        <td id=\"T_8b918a9a_7c72_11ed_aaf9_3c91804d808arow6_col2\" class=\"data row6 col2\" >73.310680</td>\n",
       "                        <td id=\"T_8b918a9a_7c72_11ed_aaf9_3c91804d808arow6_col3\" class=\"data row6 col3\" >70.481928</td>\n",
       "            </tr>\n",
       "            <tr>\n",
       "                        <th id=\"T_8b918a9a_7c72_11ed_aaf9_3c91804d808alevel0_row7\" class=\"row_heading level0 row7\" >Huang High School</th>\n",
       "                        <td id=\"T_8b918a9a_7c72_11ed_aaf9_3c91804d808arow7_col0\" class=\"data row7 col0\" >68.670616</td>\n",
       "                        <td id=\"T_8b918a9a_7c72_11ed_aaf9_3c91804d808arow7_col1\" class=\"data row7 col1\" >69.516297</td>\n",
       "                        <td id=\"T_8b918a9a_7c72_11ed_aaf9_3c91804d808arow7_col2\" class=\"data row7 col2\" >68.740638</td>\n",
       "                        <td id=\"T_8b918a9a_7c72_11ed_aaf9_3c91804d808arow7_col3\" class=\"data row7 col3\" >68.671795</td>\n",
       "            </tr>\n",
       "            <tr>\n",
       "                        <th id=\"T_8b918a9a_7c72_11ed_aaf9_3c91804d808alevel0_row8\" class=\"row_heading level0 row8\" >Johnson High School</th>\n",
       "                        <td id=\"T_8b918a9a_7c72_11ed_aaf9_3c91804d808arow8_col0\" class=\"data row8 col0\" >68.719286</td>\n",
       "                        <td id=\"T_8b918a9a_7c72_11ed_aaf9_3c91804d808arow8_col1\" class=\"data row8 col1\" >69.295029</td>\n",
       "                        <td id=\"T_8b918a9a_7c72_11ed_aaf9_3c91804d808arow8_col2\" class=\"data row8 col2\" >69.969115</td>\n",
       "                        <td id=\"T_8b918a9a_7c72_11ed_aaf9_3c91804d808arow8_col3\" class=\"data row8 col3\" >67.992521</td>\n",
       "            </tr>\n",
       "            <tr>\n",
       "                        <th id=\"T_8b918a9a_7c72_11ed_aaf9_3c91804d808alevel0_row9\" class=\"row_heading level0 row9\" >Pena High School</th>\n",
       "                        <td id=\"T_8b918a9a_7c72_11ed_aaf9_3c91804d808arow9_col0\" class=\"data row9 col0\" >70.949091</td>\n",
       "                        <td id=\"T_8b918a9a_7c72_11ed_aaf9_3c91804d808arow9_col1\" class=\"data row9 col1\" >72.324000</td>\n",
       "                        <td id=\"T_8b918a9a_7c72_11ed_aaf9_3c91804d808arow9_col2\" class=\"data row9 col2\" >71.703125</td>\n",
       "                        <td id=\"T_8b918a9a_7c72_11ed_aaf9_3c91804d808arow9_col3\" class=\"data row9 col3\" >71.513812</td>\n",
       "            </tr>\n",
       "            <tr>\n",
       "                        <th id=\"T_8b918a9a_7c72_11ed_aaf9_3c91804d808alevel0_row10\" class=\"row_heading level0 row10\" >Rodriguez High School</th>\n",
       "                        <td id=\"T_8b918a9a_7c72_11ed_aaf9_3c91804d808arow10_col0\" class=\"data row10 col0\" >70.902921</td>\n",
       "                        <td id=\"T_8b918a9a_7c72_11ed_aaf9_3c91804d808arow10_col1\" class=\"data row10 col1\" >70.137500</td>\n",
       "                        <td id=\"T_8b918a9a_7c72_11ed_aaf9_3c91804d808arow10_col2\" class=\"data row10 col2\" >71.424453</td>\n",
       "                        <td id=\"T_8b918a9a_7c72_11ed_aaf9_3c91804d808arow10_col3\" class=\"data row10 col3\" >71.414449</td>\n",
       "            </tr>\n",
       "            <tr>\n",
       "                        <th id=\"T_8b918a9a_7c72_11ed_aaf9_3c91804d808alevel0_row11\" class=\"row_heading level0 row11\" >Shelton High School</th>\n",
       "                        <td id=\"T_8b918a9a_7c72_11ed_aaf9_3c91804d808arow11_col0\" class=\"data row11 col0\" >70.715094</td>\n",
       "                        <td id=\"T_8b918a9a_7c72_11ed_aaf9_3c91804d808arow11_col1\" class=\"data row11 col1\" >69.879464</td>\n",
       "                        <td id=\"T_8b918a9a_7c72_11ed_aaf9_3c91804d808arow11_col2\" class=\"data row11 col2\" >71.150485</td>\n",
       "                        <td id=\"T_8b918a9a_7c72_11ed_aaf9_3c91804d808arow11_col3\" class=\"data row11 col3\" >69.070081</td>\n",
       "            </tr>\n",
       "            <tr>\n",
       "                        <th id=\"T_8b918a9a_7c72_11ed_aaf9_3c91804d808alevel0_row12\" class=\"row_heading level0 row12\" >Thomas High School</th>\n",
       "                        <td id=\"T_8b918a9a_7c72_11ed_aaf9_3c91804d808arow12_col0\" class=\"data row12 col0\" >69.672451</td>\n",
       "                        <td id=\"T_8b918a9a_7c72_11ed_aaf9_3c91804d808arow12_col1\" class=\"data row12 col1\" >69.741093</td>\n",
       "                        <td id=\"T_8b918a9a_7c72_11ed_aaf9_3c91804d808arow12_col2\" class=\"data row12 col2\" >70.749398</td>\n",
       "                        <td id=\"T_8b918a9a_7c72_11ed_aaf9_3c91804d808arow12_col3\" class=\"data row12 col3\" >68.730769</td>\n",
       "            </tr>\n",
       "            <tr>\n",
       "                        <th id=\"T_8b918a9a_7c72_11ed_aaf9_3c91804d808alevel0_row13\" class=\"row_heading level0 row13\" >Wilson High School</th>\n",
       "                        <td id=\"T_8b918a9a_7c72_11ed_aaf9_3c91804d808arow13_col0\" class=\"data row13 col0\" >68.683043</td>\n",
       "                        <td id=\"T_8b918a9a_7c72_11ed_aaf9_3c91804d808arow13_col1\" class=\"data row13 col1\" >68.412541</td>\n",
       "                        <td id=\"T_8b918a9a_7c72_11ed_aaf9_3c91804d808arow13_col2\" class=\"data row13 col2\" >68.796327</td>\n",
       "                        <td id=\"T_8b918a9a_7c72_11ed_aaf9_3c91804d808arow13_col3\" class=\"data row13 col3\" >69.888143</td>\n",
       "            </tr>\n",
       "            <tr>\n",
       "                        <th id=\"T_8b918a9a_7c72_11ed_aaf9_3c91804d808alevel0_row14\" class=\"row_heading level0 row14\" >Wright High School</th>\n",
       "                        <td id=\"T_8b918a9a_7c72_11ed_aaf9_3c91804d808arow14_col0\" class=\"data row14 col0\" >71.823529</td>\n",
       "                        <td id=\"T_8b918a9a_7c72_11ed_aaf9_3c91804d808arow14_col1\" class=\"data row14 col1\" >71.386831</td>\n",
       "                        <td id=\"T_8b918a9a_7c72_11ed_aaf9_3c91804d808arow14_col2\" class=\"data row14 col2\" >70.475862</td>\n",
       "                        <td id=\"T_8b918a9a_7c72_11ed_aaf9_3c91804d808arow14_col3\" class=\"data row14 col3\" >69.821138</td>\n",
       "            </tr>\n",
       "    </tbody></table>"
      ],
      "text/plain": [
       "<pandas.io.formats.style.Styler at 0x1e4768c4048>"
      ]
     },
     "execution_count": 207,
     "metadata": {},
     "output_type": "execute_result"
    }
   ],
   "source": [
    "ninth_reading = student_data.loc[student_data['year'] == 9].groupby('school_name')[\"reading_score\"].mean()\n",
    "tenth_reading = student_data.loc[student_data['year'] == 10].groupby('school_name')[\"reading_score\"].mean()\n",
    "eleventh_reading = student_data.loc[student_data['year'] == 11].groupby('school_name')[\"reading_score\"].mean()\n",
    "twelfth_reading = student_data.loc[student_data['year'] == 12].groupby('school_name')[\"reading_score\"].mean()\n",
    "\n",
    "#merges the reading score averages by school and grade together\n",
    "reading_scores = pd.DataFrame({\n",
    "        \"9th\": ninth_reading,\n",
    "        \"10th\": tenth_reading,\n",
    "        \"11th\": eleventh_reading,\n",
    "        \"12th\": twelfth_reading\n",
    "})\n",
    "reading_scores = reading_scores[['9th', '10th', '11th', '12th']]\n",
    "reading_scores.index.name = \"School Name\"\n",
    "\n",
    "#format\n",
    "reading_scores.style.format({'9th': '{:.6f}', \n",
    "                             \"10th\": '{:.6f}', \n",
    "                             \"11th\": \"{:.6f}\", \n",
    "                             \"12th\": \"{:.6f}\"})"
   ]
  },
  {
   "cell_type": "markdown",
   "metadata": {},
   "source": [
    "## Scores by School Spending"
   ]
  },
  {
   "cell_type": "markdown",
   "metadata": {},
   "source": [
    "* Create a table that breaks down school performances based on average Spending Ranges (Per Student). Use 4 reasonable bins to group school spending. Include in the table each of the following:\n",
    "  * Average Maths Score\n",
    "  * Average Reading Score\n",
    "  * % Passing Maths\n",
    "  * % Passing Reading\n",
    "  * Overall Passing Rate (Average of the above two)"
   ]
  },
  {
   "cell_type": "code",
   "execution_count": 209,
   "metadata": {},
   "outputs": [
    {
     "data": {
      "text/html": [
       "<style  type=\"text/css\" >\n",
       "</style><table id=\"T_9e64a164_7c72_11ed_8b5d_3c91804d808a\" ><thead>    <tr>        <th class=\"blank level0\" ></th>        <th class=\"col_heading level0 col0\" >Average Math Score</th>        <th class=\"col_heading level0 col1\" >Average Reading Score</th>        <th class=\"col_heading level0 col2\" >% Passing Math</th>        <th class=\"col_heading level0 col3\" >% Passing Reading</th>        <th class=\"col_heading level0 col4\" >% Overall Passing</th>    </tr>    <tr>        <th class=\"index_name level0\" >Per Student Budget</th>        <th class=\"blank\" ></th>        <th class=\"blank\" ></th>        <th class=\"blank\" ></th>        <th class=\"blank\" ></th>        <th class=\"blank\" ></th>    </tr></thead><tbody>\n",
       "                <tr>\n",
       "                        <th id=\"T_9e64a164_7c72_11ed_8b5d_3c91804d808alevel0_row0\" class=\"row_heading level0 row0\" ><$584</th>\n",
       "                        <td id=\"T_9e64a164_7c72_11ed_8b5d_3c91804d808arow0_col0\" class=\"data row0 col0\" >70.94</td>\n",
       "                        <td id=\"T_9e64a164_7c72_11ed_8b5d_3c91804d808arow0_col1\" class=\"data row0 col1\" >70.38</td>\n",
       "                        <td id=\"T_9e64a164_7c72_11ed_8b5d_3c91804d808arow0_col2\" class=\"data row0 col2\" >88.16</td>\n",
       "                        <td id=\"T_9e64a164_7c72_11ed_8b5d_3c91804d808arow0_col3\" class=\"data row0 col3\" >85.57</td>\n",
       "                        <td id=\"T_9e64a164_7c72_11ed_8b5d_3c91804d808arow0_col4\" class=\"data row0 col4\" >75.58</td>\n",
       "            </tr>\n",
       "            <tr>\n",
       "                        <th id=\"T_9e64a164_7c72_11ed_8b5d_3c91804d808alevel0_row1\" class=\"row_heading level0 row1\" >$585-629</th>\n",
       "                        <td id=\"T_9e64a164_7c72_11ed_8b5d_3c91804d808arow1_col0\" class=\"data row1 col0\" >72.17</td>\n",
       "                        <td id=\"T_9e64a164_7c72_11ed_8b5d_3c91804d808arow1_col1\" class=\"data row1 col1\" >70.97</td>\n",
       "                        <td id=\"T_9e64a164_7c72_11ed_8b5d_3c91804d808arow1_col2\" class=\"data row1 col2\" >91.56</td>\n",
       "                        <td id=\"T_9e64a164_7c72_11ed_8b5d_3c91804d808arow1_col3\" class=\"data row1 col3\" >87.35</td>\n",
       "                        <td id=\"T_9e64a164_7c72_11ed_8b5d_3c91804d808arow1_col4\" class=\"data row1 col4\" >79.96</td>\n",
       "            </tr>\n",
       "            <tr>\n",
       "                        <th id=\"T_9e64a164_7c72_11ed_8b5d_3c91804d808alevel0_row2\" class=\"row_heading level0 row2\" >$630-644</th>\n",
       "                        <td id=\"T_9e64a164_7c72_11ed_8b5d_3c91804d808arow2_col0\" class=\"data row2 col0\" >70.10</td>\n",
       "                        <td id=\"T_9e64a164_7c72_11ed_8b5d_3c91804d808arow2_col1\" class=\"data row2 col1\" >69.95</td>\n",
       "                        <td id=\"T_9e64a164_7c72_11ed_8b5d_3c91804d808arow2_col2\" class=\"data row2 col2\" >85.39</td>\n",
       "                        <td id=\"T_9e64a164_7c72_11ed_8b5d_3c91804d808arow2_col3\" class=\"data row2 col3\" >84.26</td>\n",
       "                        <td id=\"T_9e64a164_7c72_11ed_8b5d_3c91804d808arow2_col4\" class=\"data row2 col4\" >72.03</td>\n",
       "            </tr>\n",
       "            <tr>\n",
       "                        <th id=\"T_9e64a164_7c72_11ed_8b5d_3c91804d808alevel0_row3\" class=\"row_heading level0 row3\" >$645-675</th>\n",
       "                        <td id=\"T_9e64a164_7c72_11ed_8b5d_3c91804d808arow3_col0\" class=\"data row3 col0\" >68.88</td>\n",
       "                        <td id=\"T_9e64a164_7c72_11ed_8b5d_3c91804d808arow3_col1\" class=\"data row3 col1\" >69.06</td>\n",
       "                        <td id=\"T_9e64a164_7c72_11ed_8b5d_3c91804d808arow3_col2\" class=\"data row3 col2\" >81.56</td>\n",
       "                        <td id=\"T_9e64a164_7c72_11ed_8b5d_3c91804d808arow3_col3\" class=\"data row3 col3\" >81.82</td>\n",
       "                        <td id=\"T_9e64a164_7c72_11ed_8b5d_3c91804d808arow3_col4\" class=\"data row3 col4\" >66.77</td>\n",
       "            </tr>\n",
       "    </tbody></table>"
      ],
      "text/plain": [
       "<pandas.io.formats.style.Styler at 0x1e476b60048>"
      ]
     },
     "execution_count": 209,
     "metadata": {},
     "output_type": "execute_result"
    }
   ],
   "source": [
    "# create spending bins\n",
    "\n",
    "\n",
    "bins = [0, 584, 629, 644, 675]\n",
    "group_name = [\"<$584\", \"$585-629\", \"$630-644\", \"$645-675\"]\n",
    "\n",
    "school_data_complete['spending_bins'] = pd.cut(school_data_complete['budget']/school_data_complete['size'], bins, labels = group_name)\n",
    "\n",
    "#group by spending\n",
    "by_spending = school_data_complete.groupby('spending_bins')\n",
    "\n",
    "\n",
    "avg_math = by_spending['maths_score'].mean()\n",
    "\n",
    "avg_read = by_spending['reading_score'].mean()\n",
    "pass_math = school_data_complete[school_data_complete['maths_score'] >= 50].groupby('spending_bins')['Student ID'].count()/by_spending['Student ID'].count()*100\n",
    "pass_read = school_data_complete[school_data_complete['reading_score'] >= 50].groupby('spending_bins')['Student ID'].count()/by_spending['Student ID'].count()*100\n",
    "overall = school_data_complete[(school_data_complete['reading_score'] >= 50) & (school_data_complete['maths_score'] >= 50)].groupby('spending_bins')['Student ID'].count()/by_spending['Student ID'].count()*100\n",
    "    \n",
    "# df build            \n",
    "scores_by_spend = pd.DataFrame({\n",
    "    \"Average Math Score\": avg_math,\n",
    "    \"Average Reading Score\": avg_read,\n",
    "    \"% Passing Math\": pass_math,\n",
    "    \"% Passing Reading\": pass_read,\n",
    "    \"% Overall Passing\": overall\n",
    "            \n",
    "})\n",
    "            \n",
    "#reorder columns\n",
    "scores_by_spend = scores_by_spend[[\n",
    "    \"Average Math Score\",\n",
    "    \"Average Reading Score\",\n",
    "    \"% Passing Math\",\n",
    "    \"% Passing Reading\",\n",
    "    \"% Overall Passing\"\n",
    "]]\n",
    "\n",
    "scores_by_spend.index.name = \"Per Student Budget\"\n",
    "\n",
    "\n",
    "#formating\n",
    "scores_by_spend.style.format({'Average Math Score': '{:.2f}', \n",
    "                              'Average Reading Score': '{:.2f}', \n",
    "                              '% Passing Math': '{:.2f}', \n",
    "                              '% Passing Reading':'{:.2f}', \n",
    "                              '% Overall Passing': '{:.2f}'})"
   ]
  },
  {
   "cell_type": "markdown",
   "metadata": {},
   "source": [
    "* Scores by School Size"
   ]
  },
  {
   "cell_type": "code",
   "execution_count": 210,
   "metadata": {
    "scrolled": true
   },
   "outputs": [
    {
     "data": {
      "text/html": [
       "<style  type=\"text/css\" >\n",
       "</style><table id=\"T_d5ac249e_7c72_11ed_903a_3c91804d808a\" ><thead>    <tr>        <th class=\"blank level0\" ></th>        <th class=\"col_heading level0 col0\" >Average Math Score</th>        <th class=\"col_heading level0 col1\" >Average Reading Score</th>        <th class=\"col_heading level0 col2\" >% Passing Math</th>        <th class=\"col_heading level0 col3\" >% Passing Reading</th>        <th class=\"col_heading level0 col4\" >% Overall Passing</th>    </tr>    <tr>        <th class=\"index_name level0\" >Total Students</th>        <th class=\"blank\" ></th>        <th class=\"blank\" ></th>        <th class=\"blank\" ></th>        <th class=\"blank\" ></th>        <th class=\"blank\" ></th>    </tr></thead><tbody>\n",
       "                <tr>\n",
       "                        <th id=\"T_d5ac249e_7c72_11ed_903a_3c91804d808alevel0_row0\" class=\"row_heading level0 row0\" >Small (<1000)</th>\n",
       "                        <td id=\"T_d5ac249e_7c72_11ed_903a_3c91804d808arow0_col0\" class=\"data row0 col0\" >72.240461</td>\n",
       "                        <td id=\"T_d5ac249e_7c72_11ed_903a_3c91804d808arow0_col1\" class=\"data row0 col1\" >72.240461</td>\n",
       "                        <td id=\"T_d5ac249e_7c72_11ed_903a_3c91804d808arow0_col2\" class=\"data row0 col2\" >91.144708</td>\n",
       "                        <td id=\"T_d5ac249e_7c72_11ed_903a_3c91804d808arow0_col3\" class=\"data row0 col3\" >87.185025</td>\n",
       "                        <td id=\"T_d5ac249e_7c72_11ed_903a_3c91804d808arow0_col4\" class=\"data row0 col4\" >79.121670</td>\n",
       "            </tr>\n",
       "            <tr>\n",
       "                        <th id=\"T_d5ac249e_7c72_11ed_903a_3c91804d808alevel0_row1\" class=\"row_heading level0 row1\" >Medium (1000-2000)</th>\n",
       "                        <td id=\"T_d5ac249e_7c72_11ed_903a_3c91804d808arow1_col0\" class=\"data row1 col0\" >71.441798</td>\n",
       "                        <td id=\"T_d5ac249e_7c72_11ed_903a_3c91804d808arow1_col1\" class=\"data row1 col1\" >71.441798</td>\n",
       "                        <td id=\"T_d5ac249e_7c72_11ed_903a_3c91804d808arow1_col2\" class=\"data row1 col2\" >89.908472</td>\n",
       "                        <td id=\"T_d5ac249e_7c72_11ed_903a_3c91804d808arow1_col3\" class=\"data row1 col3\" >86.740202</td>\n",
       "                        <td id=\"T_d5ac249e_7c72_11ed_903a_3c91804d808arow1_col4\" class=\"data row1 col4\" >78.091997</td>\n",
       "            </tr>\n",
       "            <tr>\n",
       "                        <th id=\"T_d5ac249e_7c72_11ed_903a_3c91804d808alevel0_row2\" class=\"row_heading level0 row2\" >Large (2000-5000)</th>\n",
       "                        <td id=\"T_d5ac249e_7c72_11ed_903a_3c91804d808arow2_col0\" class=\"data row2 col0\" >69.926450</td>\n",
       "                        <td id=\"T_d5ac249e_7c72_11ed_903a_3c91804d808arow2_col1\" class=\"data row2 col1\" >69.926450</td>\n",
       "                        <td id=\"T_d5ac249e_7c72_11ed_903a_3c91804d808arow2_col2\" class=\"data row2 col2\" >84.722649</td>\n",
       "                        <td id=\"T_d5ac249e_7c72_11ed_903a_3c91804d808arow2_col3\" class=\"data row2 col3\" >83.622133</td>\n",
       "                        <td id=\"T_d5ac249e_7c72_11ed_903a_3c91804d808arow2_col4\" class=\"data row2 col4\" >70.969616</td>\n",
       "            </tr>\n",
       "    </tbody></table>"
      ],
      "text/plain": [
       "<pandas.io.formats.style.Styler at 0x1e4768c1ec8>"
      ]
     },
     "execution_count": 210,
     "metadata": {},
     "output_type": "execute_result"
    }
   ],
   "source": [
    "# Perform the same operations as above, based on school size.\n",
    "# create size bins\n",
    "bins = [0, 1000, 1999,5000]\n",
    "group_name = [\"Small (<1000)\", \"Medium (1000-2000)\" , \"Large (2000-5000)\"]\n",
    "school_data_complete['size_bins'] = pd.cut(school_data_complete['size'], bins, labels = group_name)\n",
    "\n",
    "#group by spending\n",
    "by_size = school_data_complete.groupby('size_bins')\n",
    "\n",
    "#calculations \n",
    "average_math_score = by_size['maths_score'].mean()\n",
    "average_reading_score = by_size['maths_score'].mean()\n",
    "pass_math_percent = school_data_complete[school_data_complete['maths_score'] >= 50].groupby('size_bins')['Student ID'].count()/by_size['Student ID'].count()*100\n",
    "pass_read_percent = school_data_complete[school_data_complete['reading_score'] >= 50].groupby('size_bins')['Student ID'].count()/by_size['Student ID'].count()*100\n",
    "overall = school_data_complete[(school_data_complete['reading_score'] >= 50) & (school_data_complete['maths_score'] >= 50)].groupby('size_bins')['Student ID'].count()/by_size['Student ID'].count()*100\n",
    "\n",
    "            \n",
    "# df build            \n",
    "scores_by_size = pd.DataFrame({\n",
    "    \"Average Math Score\": average_math_score,\n",
    "    \"Average Reading Score\": average_reading_score,\n",
    "    '% Passing Math': pass_math_percent,\n",
    "    '% Passing Reading': pass_read_percent,\n",
    "    '% Overall Passing': overall\n",
    "            \n",
    "})\n",
    "            \n",
    "#reorder columns\n",
    "scores_by_size = scores_by_size[[\n",
    "    \"Average Math Score\",\n",
    "    \"Average Reading Score\",\n",
    "    '% Passing Math',\n",
    "    '% Passing Reading',\n",
    "    '% Overall Passing'\n",
    "]]\n",
    "\n",
    "scores_by_size.index.name = \"Total Students\"\n",
    "scores_by_size = scores_by_size.reindex(group_name)\n",
    "\n",
    "#formating\n",
    "scores_by_size.style.format({'Average Math Score': '{:.6f}', \n",
    "                              'Average Reading Score': '{:.6f}', \n",
    "                              '% Passing Math': '{:.6f}', \n",
    "                              '% Passing Reading':'{:.6f}', \n",
    "                              '% Overall Passing': '{:.6f}'})"
   ]
  },
  {
   "cell_type": "markdown",
   "metadata": {},
   "source": [
    "Scores by School Type"
   ]
  },
  {
   "cell_type": "code",
   "execution_count": 211,
   "metadata": {},
   "outputs": [
    {
     "data": {
      "text/html": [
       "<style  type=\"text/css\" >\n",
       "</style><table id=\"T_2b9a69c8_7c73_11ed_be79_3c91804d808a\" ><thead>    <tr>        <th class=\"blank level0\" ></th>        <th class=\"col_heading level0 col0\" >Average Math Score</th>        <th class=\"col_heading level0 col1\" >Average Reading Score</th>        <th class=\"col_heading level0 col2\" >% Passing Math</th>        <th class=\"col_heading level0 col3\" >% Passing Reading</th>        <th class=\"col_heading level0 col4\" >% Overall Passing</th>    </tr>    <tr>        <th class=\"index_name level0\" >Type of School</th>        <th class=\"blank\" ></th>        <th class=\"blank\" ></th>        <th class=\"blank\" ></th>        <th class=\"blank\" ></th>        <th class=\"blank\" ></th>    </tr></thead><tbody>\n",
       "                <tr>\n",
       "                        <th id=\"T_2b9a69c8_7c73_11ed_be79_3c91804d808alevel0_row0\" class=\"row_heading level0 row0\" >Government</th>\n",
       "                        <td id=\"T_2b9a69c8_7c73_11ed_be79_3c91804d808arow0_col0\" class=\"data row0 col0\" >69.990399</td>\n",
       "                        <td id=\"T_2b9a69c8_7c73_11ed_be79_3c91804d808arow0_col1\" class=\"data row0 col1\" >69.990399</td>\n",
       "                        <td id=\"T_2b9a69c8_7c73_11ed_be79_3c91804d808arow0_col2\" class=\"data row0 col2\" >84.886566</td>\n",
       "                        <td id=\"T_2b9a69c8_7c73_11ed_be79_3c91804d808arow0_col3\" class=\"data row0 col3\" >83.818950</td>\n",
       "                        <td id=\"T_2b9a69c8_7c73_11ed_be79_3c91804d808arow0_col4\" class=\"data row0 col4\" >42.964116</td>\n",
       "            </tr>\n",
       "            <tr>\n",
       "                        <th id=\"T_2b9a69c8_7c73_11ed_be79_3c91804d808alevel0_row1\" class=\"row_heading level0 row1\" >Independent</th>\n",
       "                        <td id=\"T_2b9a69c8_7c73_11ed_be79_3c91804d808arow1_col0\" class=\"data row1 col0\" >71.107594</td>\n",
       "                        <td id=\"T_2b9a69c8_7c73_11ed_be79_3c91804d808arow1_col1\" class=\"data row1 col1\" >71.107594</td>\n",
       "                        <td id=\"T_2b9a69c8_7c73_11ed_be79_3c91804d808arow1_col2\" class=\"data row1 col2\" >88.715762</td>\n",
       "                        <td id=\"T_2b9a69c8_7c73_11ed_be79_3c91804d808arow1_col3\" class=\"data row1 col3\" >85.771691</td>\n",
       "                        <td id=\"T_2b9a69c8_7c73_11ed_be79_3c91804d808arow1_col4\" class=\"data row1 col4\" >45.678202</td>\n",
       "            </tr>\n",
       "    </tbody></table>"
      ],
      "text/plain": [
       "<pandas.io.formats.style.Styler at 0x1e476a47448>"
      ]
     },
     "execution_count": 211,
     "metadata": {},
     "output_type": "execute_result"
    }
   ],
   "source": [
    "# Perform the same operations as above, based on school type\n",
    "# group by type of school\n",
    "schoo_type = school_data_complete.groupby(\"type\")\n",
    "\n",
    "#calculations \n",
    "average_math_score = schoo_type['maths_score'].mean()\n",
    "average_reading_score = schoo_type['maths_score'].mean()\n",
    "pass_math_percent = school_data_complete[school_data_complete['maths_score'] >= 50].groupby('type')['Student ID'].count()/schoo_type['Student ID'].count()*100\n",
    "pass_read_percent = school_data_complete[school_data_complete['reading_score'] >= 50].groupby('type')['Student ID'].count()/schoo_type['Student ID'].count()*100\n",
    "overall = school_data_complete[(school_data_complete['reading_score'] >= 70) & (school_data_complete['maths_score'] >= 50)].groupby('type')['Student ID'].count()/schoo_type['Student ID'].count()*100\n",
    "\n",
    "# df build            \n",
    "scores_schoo_type = pd.DataFrame({\n",
    "    \"Average Math Score\": average_math_score,\n",
    "    \"Average Reading Score\": average_reading_score,\n",
    "    '% Passing Math': pass_math_percent,\n",
    "    '% Passing Reading': pass_read_percent,\n",
    "    \"% Overall Passing\": overall})\n",
    "    \n",
    "#reorder columns\n",
    "scores_schoo_type = scores_schoo_type[[\n",
    "    \"Average Math Score\",\n",
    "    \"Average Reading Score\",\n",
    "    '% Passing Math',\n",
    "    '% Passing Reading',\n",
    "    \"% Overall Passing\"\n",
    "]]\n",
    "scores_schoo_type.index.name = \"Type of School\"\n",
    "\n",
    "\n",
    "#formating\n",
    "scores_schoo_type.style.format({'Average Math Score': '{:.6f}', \n",
    "                              'Average Reading Score': '{:.6f}', \n",
    "                              '% Passing Math': '{:.6f}', \n",
    "                              '% Passing Reading':'{:.6f}', \n",
    "                              '% Overall Passing': '{:.6f}'})"
   ]
  }
 ],
 "metadata": {
  "anaconda-cloud": {},
  "kernel_info": {
   "name": "python3"
  },
  "kernelspec": {
   "display_name": "Python 3 (ipykernel)",
   "language": "python",
   "name": "python3"
  },
  "language_info": {
   "codemirror_mode": {
    "name": "ipython",
    "version": 3
   },
   "file_extension": ".py",
   "mimetype": "text/x-python",
   "name": "python",
   "nbconvert_exporter": "python",
   "pygments_lexer": "ipython3",
   "version": "3.7.7"
  },
  "latex_envs": {
   "LaTeX_envs_menu_present": true,
   "autoclose": false,
   "autocomplete": true,
   "bibliofile": "biblio.bib",
   "cite_by": "apalike",
   "current_citInitial": 1,
   "eqLabelWithNumbers": true,
   "eqNumInitial": 1,
   "hotkeys": {
    "equation": "Ctrl-E",
    "itemize": "Ctrl-I"
   },
   "labels_anchors": false,
   "latex_user_defs": false,
   "report_style_numbering": false,
   "user_envs_cfg": false
  },
  "nteract": {
   "version": "0.8.4"
  }
 },
 "nbformat": 4,
 "nbformat_minor": 1
}
